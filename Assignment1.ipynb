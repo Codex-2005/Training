{
 "cells": [
  {
   "cell_type": "code",
   "execution_count": 16,
   "metadata": {},
   "outputs": [
    {
     "name": "stdout",
     "output_type": "stream",
     "text": [
      "Prime numbers:  [2, 3, 5, 7]\n"
     ]
    }
   ],
   "source": [
    "\n",
    "#Write a Python program to find all the prime numbers between two given numbers.\n",
    "def findPrimes(start,end):\n",
    "    primes= []\n",
    "    for i in range(start,end+1):\n",
    "        if i>1:\n",
    "            for j in range(2, int(i**0.5)+1):\n",
    "                if i%j == 0:\n",
    "                    break\n",
    "            else:\n",
    "                primes.append(i)\n",
    "    return primes\n",
    "\n",
    "start = int(input('Enter start: '))\n",
    "end = int(input('Enter end: '))\n",
    "print('Prime numbers: ',findPrimes(start, end))"
   ]
  },
  {
   "cell_type": "code",
   "execution_count": 17,
   "metadata": {},
   "outputs": [
    {
     "name": "stdout",
     "output_type": "stream",
     "text": [
      "prime numbers:  [2, 3, 5, 7]\n"
     ]
    }
   ],
   "source": [
    "#Write a Python program to find the first n numbers that are both prime.\n",
    "def findPrimes(num):\n",
    "    primes= []\n",
    "    n = 2\n",
    "    while len(primes)<num:\n",
    "        \n",
    "        flag = True\n",
    "        for j in range(2, int(n**0.5)+1):\n",
    "            if n%j == 0:\n",
    "                flag = False\n",
    "                break\n",
    "        if(flag):\n",
    "            primes.append(n)\n",
    "        n+=1\n",
    "    return primes\n",
    "\n",
    "end = int(input('Enter length: '))\n",
    "print('prime numbers: ',findPrimes(end))"
   ]
  },
  {
   "cell_type": "code",
   "execution_count": 21,
   "metadata": {},
   "outputs": [
    {
     "name": "stdout",
     "output_type": "stream",
     "text": [
      "Longest word is : a\n"
     ]
    }
   ],
   "source": [
    "#Write a Python function to find the longest word in a given sentence\n",
    "def longestWord(s):\n",
    "    word = s.split()\n",
    "    longest = max(word,key =len)\n",
    "    return longest\n",
    "s = input('Enter Sentence:')\n",
    "print('Longest word is :',longestWord(s))\n"
   ]
  },
  {
   "cell_type": "code",
   "execution_count": 25,
   "metadata": {},
   "outputs": [
    {
     "name": "stdout",
     "output_type": "stream",
     "text": [
      "Strings are not anagrams\n"
     ]
    },
    {
     "data": {
      "text/plain": [
       "False"
      ]
     },
     "execution_count": 25,
     "metadata": {},
     "output_type": "execute_result"
    }
   ],
   "source": [
    "#Write a Python function to check if two given strings are anagrams of each other.\n",
    "def anagrams(s1,s2):\n",
    "    if len(s1)!= len(s2):\n",
    "        print('Strings are not anagrams')\n",
    "        return False\n",
    "    s1= sorted(s1)\n",
    "    s2 = sorted(s2)\n",
    "    if s1 == s2:\n",
    "        print('The strings are anagrams')\n",
    "        return True\n",
    "    print('Strings are not anagrams')\n",
    "    return False\n",
    "s1= input('Enter s1')\n",
    "s2= input('Enter s2')\n",
    "anagrams(s1,s2)\n"
   ]
  },
  {
   "cell_type": "code",
   "execution_count": 26,
   "metadata": {},
   "outputs": [
    {
     "name": "stdout",
     "output_type": "stream",
     "text": [
      "4\n"
     ]
    }
   ],
   "source": [
    "#Create a program that evaluates a list of Boolean expressions and returns the count of True values.\n",
    "def countExpressions(expressions):\n",
    "    return sum(1 for expression in expressions if eval(expression))\n",
    "\n",
    "expressions = [\"True\", \"False\", \"True\", \"True\", \"False\",\"True\"]\n",
    "print(countExpressions(expressions))"
   ]
  },
  {
   "cell_type": "code",
   "execution_count": 28,
   "metadata": {},
   "outputs": [
    {
     "name": "stdout",
     "output_type": "stream",
     "text": [
      "False\n"
     ]
    }
   ],
   "source": [
    "#Write a Python function to evaluate a complex Boolean expression represented as a string\n",
    "def evalExpression(expression):\n",
    "    return eval(expression)\n",
    "    \n",
    "expression = input(\"Enter the expression: \")\n",
    "print(evalExpression(expression))"
   ]
  },
  {
   "cell_type": "code",
   "execution_count": 30,
   "metadata": {},
   "outputs": [
    {
     "name": "stdout",
     "output_type": "stream",
     "text": [
      "40\n"
     ]
    }
   ],
   "source": [
    "#Write a Python function to find the second largest element in a list.\n",
    "def secondLargest(l):\n",
    "    a=0\n",
    "    b=0\n",
    "    for i in l:\n",
    "        if i>a:\n",
    "            b=a\n",
    "            a=i\n",
    "        elif i>b:\n",
    "            b=i\n",
    "    return b\n",
    "lst = [10, 20, 40, 30, 50]\n",
    "print(secondLargest(lst))\n",
    "\n"
   ]
  },
  {
   "cell_type": "code",
   "execution_count": 35,
   "metadata": {},
   "outputs": [
    {
     "name": "stdout",
     "output_type": "stream",
     "text": [
      "[(1, 2, 3), (1, 3, 2), (2, 1, 3), (2, 3, 1), (3, 1, 2), (3, 2, 1)]\n"
     ]
    }
   ],
   "source": [
    "#Write a Python program to generate all possible permutations of a list of numbers.\n",
    "import itertools\n",
    "def generatePermutations(lst):\n",
    "    return list(itertools.permutations(lst))\n",
    "\n",
    "lst = [1,2,3]\n",
    "print(generatePermutations(lst))"
   ]
  },
  {
   "cell_type": "code",
   "execution_count": 33,
   "metadata": {},
   "outputs": [
    {
     "name": "stdout",
     "output_type": "stream",
     "text": [
      "(0, 1, 2, 3, 4, 5, 6, 7, 8, 9)\n"
     ]
    }
   ],
   "source": [
    "#Create a function to merge two sorted tuples into one sorted tuple.\n",
    "def mergeTuples(tuple1, tuple2):\n",
    "    return tuple(sorted(tuple1 + tuple2))\n",
    "\n",
    "tuple1 = (1,4,2,5,8)\n",
    "tuple2 = (3,6,7,9,0)\n",
    "print(mergeTuples(tuple1, tuple2))"
   ]
  },
  {
   "cell_type": "code",
   "execution_count": 38,
   "metadata": {},
   "outputs": [
    {
     "name": "stdout",
     "output_type": "stream",
     "text": [
      "Unique combinations that sum up to 9 are:\n",
      "(4, 5)\n",
      "(2, 3, 4)\n",
      "(3, 6)\n"
     ]
    }
   ],
   "source": [
    "#Write a Python program to find all unique combinations of elements in a tuple that sum up to a given number.\n",
    "from itertools import combinations\n",
    "def find_combinations(elements, target):\n",
    "    result = set()\n",
    "    n = len(elements)\n",
    "    \n",
    "    for r in range(1, n + 1):\n",
    "        for combo in combinations(elements, r):\n",
    "            if sum(combo) == target:\n",
    "                result.add(tuple(sorted(combo)))\n",
    "                \n",
    "    return list(result)\n",
    "elements = [2, 4, 6, 3, 5]\n",
    "target = 9\n",
    "combinations_result = find_combinations(elements, target)\n",
    "\n",
    "print(f\"Unique combinations that sum up to {target} are:\")\n",
    "for combo in combinations_result:\n",
    "    print(combo)"
   ]
  },
  {
   "cell_type": "code",
   "execution_count": 40,
   "metadata": {},
   "outputs": [
    {
     "name": "stdout",
     "output_type": "stream",
     "text": [
      "{1: 'a', 2: 'b', 3: 'c'}\n"
     ]
    }
   ],
   "source": [
    "#Write a Python function to invert a dictionary, swapping keys and values.\n",
    "def invert(d):\n",
    "    return {v: k for k, v in d.items()}\n",
    "\n",
    "d ={'a':1,'b': 2, 'c': 3}\n",
    "print(invert(d))\n"
   ]
  },
  {
   "cell_type": "code",
   "execution_count": 42,
   "metadata": {},
   "outputs": [
    {
     "name": "stdout",
     "output_type": "stream",
     "text": [
      "{'a': 1, 'b': 5, 'c': 4}\n"
     ]
    }
   ],
   "source": [
    "#Write a Python program to merge multiple dictionaries and sum the values of common keys.\n",
    "\n",
    "def mergeDict(*dict):\n",
    "    result = {}\n",
    "    for d in dict:\n",
    "        for k, v in d.items():\n",
    "            if(k in result):\n",
    "                result[k]+=v\n",
    "            else:\n",
    "                result[k] = v\n",
    "    return result\n",
    "dict1 = {'a': 1, 'b': 2}\n",
    "dict2 = {'b': 3, 'c': 4}\n",
    "print(mergeDict(dict1,dict2))"
   ]
  },
  {
   "cell_type": "code",
   "execution_count": 46,
   "metadata": {},
   "outputs": [
    {
     "name": "stdout",
     "output_type": "stream",
     "text": [
      "Symmetric Difference: {1, 2, 4, 5}\n"
     ]
    }
   ],
   "source": [
    "#Write a Python program to find the symmetric difference between two sets\n",
    "def symmetricDifference(set1,set2):\n",
    "    return set1.symmetric_difference(set2)\n",
    "set1 = {1, 2, 3}\n",
    "set2 = {3, 4, 5}\n",
    "result = symmetricDifference(set1, set2)\n",
    "print(\"Symmetric Difference:\", result)"
   ]
  },
  {
   "cell_type": "code",
   "execution_count": 47,
   "metadata": {},
   "outputs": [
    {
     "name": "stdout",
     "output_type": "stream",
     "text": [
      "[[], [1], [2], [1, 2], [3], [1, 3], [2, 3], [1, 2, 3]]\n"
     ]
    }
   ],
   "source": [
    "#Write a Python function to find all subsets of a given set\n",
    "def findSubsets(s):\n",
    "    subsets = [[]]\n",
    "    for elem in s:\n",
    "        subsets += [subset + [elem] for subset in subsets]\n",
    "    return subsets\n",
    "s = {1, 2, 3}\n",
    "print(findSubsets(s))"
   ]
  },
  {
   "cell_type": "code",
   "execution_count": 54,
   "metadata": {},
   "outputs": [
    {
     "name": "stdout",
     "output_type": "stream",
     "text": [
      "Leap year\n"
     ]
    }
   ],
   "source": [
    "#Write a Python program to classify a given year as a leap year or a non-leap year.\n",
    "def leapYear(year):\n",
    "    if (year%4==0 and year%100!=0) or year%400 ==0:\n",
    "        print('Leap year')\n",
    "    else:\n",
    "        print('not leap year')\n",
    "year = int(input('Enter year'))\n",
    "leapYear(year)"
   ]
  },
  {
   "cell_type": "code",
   "execution_count": 56,
   "metadata": {},
   "outputs": [
    {
     "name": "stdout",
     "output_type": "stream",
     "text": [
      "2 distinct real roots\n",
      "Root 1: 2.0\n",
      "Root 2: 1.0\n"
     ]
    }
   ],
   "source": [
    "#Write a Python program to solve a quadratic equation (ax^2 + bx + c = 0) and classify the roots as real, complex, or equal.\n",
    "\n",
    "import cmath\n",
    "\n",
    "def quadraticRoots(a,b,c):\n",
    "    if a==0:\n",
    "        print('cannot solve')\n",
    "        return \n",
    "    d= (b**2)- (4*a*c)\n",
    "    r1 = ((-b) + (d**0.5))/(2*a)\n",
    "    r2 = ((-b) - (d**0.5))/(2*a)\n",
    "\n",
    "    if d > 0:\n",
    "        print('2 distinct real roots')\n",
    "    elif d==0:\n",
    "        print( '2 equal real roots')\n",
    "    else:\n",
    "        print(' complex roots')\n",
    "    print(f\"Root 1: {r1}\")\n",
    "    print(f\"Root 2: {r2}\")\n",
    "\n",
    "a = float(input(\"Enter the value of a: \"))\n",
    "b = float(input(\"Enter the value of b: \"))\n",
    "c = float(input(\"Enter the value of c: \"))\n",
    "quadraticRoots(a,b,c)\n"
   ]
  },
  {
   "cell_type": "code",
   "execution_count": 61,
   "metadata": {},
   "outputs": [
    {
     "name": "stdout",
     "output_type": "stream",
     "text": [
      "[0, 1, 1]\n"
     ]
    }
   ],
   "source": [
    "#Write a Python function to generate the Fibonacci series up to a given number of terms\n",
    "def generate_fibonacci_series(terms):\n",
    "    fibSeries = [0, 1]\n",
    "    while len(fibSeries) < terms:\n",
    "        fibSeries.append(fibSeries[-1] + fibSeries[-2])\n",
    "        return fibSeries\n",
    "\n",
    "terms = int(input(\"Enter the number of terms: \"))\n",
    "print(generate_fibonacci_series(terms))"
   ]
  },
  {
   "cell_type": "code",
   "execution_count": 65,
   "metadata": {},
   "outputs": [
    {
     "name": "stdout",
     "output_type": "stream",
     "text": [
      "Longest Increasing Subsequence: [10, 22, 33, 50, 60, 80]\n"
     ]
    }
   ],
   "source": [
    "#Write a Python program to find the longest increasing subsequence in a given list of numbers.\n",
    "def longestIncSubseq(nums):\n",
    "    if not nums:\n",
    "        return []\n",
    "\n",
    "    n = len(nums)\n",
    "    lis = [1] * n\n",
    "    prev_index = [-1] * n\n",
    "\n",
    "    for i in range(1, n):\n",
    "        for j in range(i):\n",
    "            if nums[i] > nums[j] and lis[i] < lis[j] + 1:\n",
    "                lis[i] = lis[j] + 1\n",
    "                prev_index[i] = j\n",
    "\n",
    "    max_length = max(lis)\n",
    "    max_index = lis.index(max_length)\n",
    "\n",
    "    longest_subsequence = []\n",
    "    while max_index != -1:\n",
    "        longest_subsequence.append(nums[max_index])\n",
    "        max_index = prev_index[max_index]\n",
    "\n",
    "    return longest_subsequence[::-1]\n",
    "\n",
    "nums = [10, 22, 9, 33, 21, 50, 41, 60, 80]\n",
    "print(\"Longest Increasing Subsequence:\", longestIncSubseq(nums))"
   ]
  },
  {
   "cell_type": "code",
   "execution_count": 67,
   "metadata": {},
   "outputs": [
    {
     "name": "stdout",
     "output_type": "stream",
     "text": [
      "The Greatest Common Divisor (GCD) is: 6\n"
     ]
    }
   ],
   "source": [
    "#Write a Python program to find the greatest common divisor (GCD) of two numbers using the Euclidean algorithm.\n",
    "def gcd(a, b):\n",
    "    while b != 0:\n",
    "        a, b = b, a % b\n",
    "    return a\n",
    "\n",
    "a = int(input(\"Enter the first number: \"))\n",
    "b = int(input(\"Enter the second number: \"))\n",
    "\n",
    "print(\"The Greatest Common Divisor (GCD) is:\", gcd(a, b))"
   ]
  }
 ],
 "metadata": {
  "kernelspec": {
   "display_name": "Python 3",
   "language": "python",
   "name": "python3"
  },
  "language_info": {
   "codemirror_mode": {
    "name": "ipython",
    "version": 3
   },
   "file_extension": ".py",
   "mimetype": "text/x-python",
   "name": "python",
   "nbconvert_exporter": "python",
   "pygments_lexer": "ipython3",
   "version": "3.12.0"
  }
 },
 "nbformat": 4,
 "nbformat_minor": 2
}
