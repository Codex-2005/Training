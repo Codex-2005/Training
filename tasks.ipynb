{
 "cells": [
  {
   "cell_type": "code",
   "execution_count": 10,
   "metadata": {},
   "outputs": [
    {
     "name": "stdout",
     "output_type": "stream",
     "text": [
      "task1\n",
      "11\n",
      "13\n",
      "17\n",
      "19\n",
      "23\n",
      "29\n"
     ]
    }
   ],
   "source": [
    "start = 10\n",
    "end = 30\n",
    "print(\"task1\")\n",
    "for i in range(start,end + 1):\n",
    "    if i > 1:\n",
    "        for j in range(2,i):\n",
    "            if (i % j) == 0:\n",
    "                break\n",
    "        else:\n",
    "            print(i)\n",
    "\n"
   ]
  },
  {
   "cell_type": "code",
   "execution_count": 12,
   "metadata": {},
   "outputs": [
    {
     "name": "stdout",
     "output_type": "stream",
     "text": [
      "the second largest element in list is 45\n"
     ]
    }
   ],
   "source": [
    "# Write a Python function to find the second largest element in a list.\n",
    "lst = [10, 20, 4, 45, 99]\n",
    "lst.sort()\n",
    "print(\"the second largest element in list is\",lst[-2])\n"
   ]
  },
  {
   "cell_type": "code",
   "execution_count": 23,
   "metadata": {},
   "outputs": [
    {
     "name": "stdout",
     "output_type": "stream",
     "text": [
      "(1, 2, 3, 4, 5, 6)\n"
     ]
    }
   ],
   "source": [
    "# Create a function to merge two sorted tuples into one sorted tuple\n",
    "\n",
    "tuple1 = (1,2,3)\n",
    "tuple2 = (4,5,6)\n",
    "tuple3 = tuple1 + tuple2\n",
    "print(tuple3)"
   ]
  },
  {
   "cell_type": "code",
   "execution_count": 15,
   "metadata": {},
   "outputs": [
    {
     "name": "stdout",
     "output_type": "stream",
     "text": [
      "Consulting\n"
     ]
    }
   ],
   "source": [
    "# Write a Python function to find the longest word in a given sentence.\n",
    "\n",
    "def longestword(sentence):\n",
    "    word = sentence.split(\" \")\n",
    "    longest = max(word,key=len)\n",
    "    return longest\n",
    "\n",
    "l = \"Technman Consulting Ahmedabad\"\n",
    "print(longestword(l))"
   ]
  },
  {
   "cell_type": "code",
   "execution_count": 21,
   "metadata": {},
   "outputs": [
    {
     "name": "stdout",
     "output_type": "stream",
     "text": [
      "this is leap year\n"
     ]
    }
   ],
   "source": [
    "# Write a Python program to classify a given year as a leap year or a non-leap year\n",
    "\n",
    "def leapyear(year):\n",
    "    if (year % 4) == 0:\n",
    "        print(\"this is leap year\")\n",
    "    else:\n",
    "        print(\"this is not a leap year\")\n",
    "\n",
    "l = 2024\n",
    "leapyear(l)"
   ]
  },
  {
   "cell_type": "code",
   "execution_count": 27,
   "metadata": {},
   "outputs": [
    {
     "name": "stdout",
     "output_type": "stream",
     "text": [
      "0\n",
      "1\n",
      "1\n",
      "2\n",
      "3\n"
     ]
    }
   ],
   "source": [
    "#Fibonacci\n",
    "def Fibonacci(n):\n",
    "    a,b = 0,1\n",
    "    for _ in range(n):\n",
    "        print(a)\n",
    "        a,b = b,a+b\n",
    "        \n",
    "    \n",
    "n = 5\n",
    "Fibonacci(n)"
   ]
  },
  {
   "cell_type": "code",
   "execution_count": 35,
   "metadata": {},
   "outputs": [
    {
     "data": {
      "text/plain": [
       "6"
      ]
     },
     "execution_count": 35,
     "metadata": {},
     "output_type": "execute_result"
    }
   ],
   "source": [
    "#GCD \n",
    "def GCD(a,b):\n",
    "    while b != 0:\n",
    "        a,b = b,a%b\n",
    "    return a\n",
    "    \n",
    "a = 48\n",
    "b = 18\n",
    "GCD(a,b)"
   ]
  },
  {
   "cell_type": "code",
   "execution_count": 36,
   "metadata": {},
   "outputs": [
    {
     "name": "stdout",
     "output_type": "stream",
     "text": [
      "{1, 2, 4, 5}\n"
     ]
    }
   ],
   "source": [
    "# Write a Python program to find the symmetric difference between two sets.\n",
    "set1 = {1, 2, 3}\n",
    "set2 = {3, 4, 5}\n",
    "set3 = set1 ^ set2\n",
    "print(set3)\n"
   ]
  },
  {
   "cell_type": "code",
   "execution_count": null,
   "metadata": {},
   "outputs": [],
   "source": [
    "# Write a Python program to solve a quadratic equation (ax^2 + bx + c = 0) and classify the\n",
    "# roots as real, complex, or equal.\n",
    "# External Help Taken\n",
    "\n",
    "import cmath \n",
    "\n",
    "def solve_quadratic(a, b, c):\n",
    "    # Calculate the discriminant\n",
    "    discriminant = b**2 - 4*a*c\n",
    "    \n",
    "    # Calculate two solutions\n",
    "    root1 = (-b + cmath.sqrt(discriminant)) / (2 * a)\n",
    "    root2 = (-b - cmath.sqrt(discriminant)) / (2 * a)\n",
    "    \n",
    "    return root1, root2\n",
    "\n",
    "# Example usage\n",
    "a = 1\n",
    "b = -3\n",
    "c = 2\n",
    "\n",
    "roots = solve_quadratic(a, b, c)\n",
    "print(f\"The roots are: {roots[0]} and {roots[1]}\")\n",
    "\n"
   ]
  },
  {
   "cell_type": "code",
   "execution_count": 41,
   "metadata": {},
   "outputs": [
    {
     "data": {
      "text/plain": [
       "[13, 40, 20, 10, 5, 16, 8, 4, 2, 1]"
      ]
     },
     "execution_count": 41,
     "metadata": {},
     "output_type": "execute_result"
    }
   ],
   "source": [
    "# Write a Python program to implement a basic version of the Collatz conjecture.\n",
    "\n",
    "def collatz(n):\n",
    "    if n <= 0:\n",
    "        return \"The number is not positive\"\n",
    "    \n",
    "    list = [n]\n",
    "\n",
    "    while n != 1:\n",
    "        if n % 2 == 0:\n",
    "            n = n // 2\n",
    "        else:\n",
    "            n  = 3 * n + 1\n",
    "        list.append(n)\n",
    "\n",
    "    return list\n",
    "\n",
    "c = 13\n",
    "collatz(c)"
   ]
  },
  {
   "cell_type": "code",
   "execution_count": 50,
   "metadata": {},
   "outputs": [
    {
     "data": {
      "text/plain": [
       "{1: 'a', 2: 'b', 3: 'c'}"
      ]
     },
     "execution_count": 50,
     "metadata": {},
     "output_type": "execute_result"
    }
   ],
   "source": [
    "# Write a Python function to invert a dictionary, swapping keys and values.\n",
    "def dict(dictt):\n",
    "    extra = {}\n",
    "    for key, val in dictt.items():\n",
    "        if val in extra:\n",
    "            print(\"wrong data\")\n",
    "        extra[val] = key\n",
    "        \n",
    "    return extra\n",
    "\n",
    "\n",
    "dict1 =  {'a': 1, 'b': 2, 'c': 3}\n",
    "dict(dict1)"
   ]
  },
  {
   "cell_type": "code",
   "execution_count": 55,
   "metadata": {},
   "outputs": [
    {
     "name": "stdout",
     "output_type": "stream",
     "text": [
      "the strings are anagram\n"
     ]
    }
   ],
   "source": [
    "def stri(str1,str2):\n",
    "    if(sorted(str1) == sorted(str2)):\n",
    "        print(\"the strings are anagram\")\n",
    "    else:\n",
    "        print(\"the string are not anagrams\")\n",
    "    \n",
    "str1 = \"listen\"\n",
    "str2 = \"silent\"\n",
    "s = stri(str1,str2)"
   ]
  },
  {
   "cell_type": "code",
   "execution_count": null,
   "metadata": {},
   "outputs": [],
   "source": []
  }
 ],
 "metadata": {
  "kernelspec": {
   "display_name": "Python 3",
   "language": "python",
   "name": "python3"
  },
  "language_info": {
   "codemirror_mode": {
    "name": "ipython",
    "version": 3
   },
   "file_extension": ".py",
   "mimetype": "text/x-python",
   "name": "python",
   "nbconvert_exporter": "python",
   "pygments_lexer": "ipython3",
   "version": "3.12.6"
  }
 },
 "nbformat": 4,
 "nbformat_minor": 2
}
