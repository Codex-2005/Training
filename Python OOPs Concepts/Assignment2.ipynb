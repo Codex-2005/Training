{
 "cells": [
  {
   "cell_type": "code",
   "execution_count": 1,
   "metadata": {},
   "outputs": [
    {
     "name": "stdout",
     "output_type": "stream",
     "text": [
      "Book Book1 added successfully!\n",
      "Book Book2 added successfully!\n",
      "Book Book1 removed successfully!\n",
      "Book Book3 added successfully!\n",
      "Name : \"City Library\", Address : \"123 Main St\", Books : ['Book2', 'Book3']\n"
     ]
    }
   ],
   "source": [
    "# Assignment 2\n",
    "\n",
    "# Class Definition and Object Instantiation\n",
    "\n",
    "# 1. Create a class Library with attributes like name, address, and a list of books. Implement methods to add and remove books.\n",
    "\n",
    "class Library :\n",
    "    def __init__(self, name, address, books=None) :\n",
    "        self.name = name\n",
    "        self.address = address\n",
    "        self.books = books if books is not None else []\n",
    "\n",
    "    def addBook(self, book) :\n",
    "        self.books.append(book)\n",
    "        print(\"Book\", book, \"added successfully!\")\n",
    "    \n",
    "    def removeBook(self, book) :\n",
    "        if book in self.books :\n",
    "            self.books.remove(book)\n",
    "            print(\"Book\", book, \"removed successfully!\")\n",
    "        else : \n",
    "            print(\"Book\", book, \"not found in the collection.\")\n",
    "\n",
    "    def __repr__(self) :\n",
    "        return f'Name : \"{self.name}\", Address : \"{self.address}\", Books : {self.books}'\n",
    "    \n",
    "library = Library(name=\"City Library\", address=\"123 Main St\", books=[])\n",
    "library.addBook(\"Book1\")\n",
    "library.addBook(\"Book2\")\n",
    "library.removeBook(\"Book1\")\n",
    "library.addBook(\"Book3\")\n",
    "\n",
    "print(library)"
   ]
  },
  {
   "cell_type": "code",
   "execution_count": 9,
   "metadata": {},
   "outputs": [
    {
     "name": "stdout",
     "output_type": "stream",
     "text": [
      "House Details: \n",
      "Address : 456 Elm St , Number of Rooms : 4 , Price : 350000\n"
     ]
    }
   ],
   "source": [
    "# 2.  Create a class House with attributes like address, num_rooms, and price. Implement a method to display the house details.\n",
    "\n",
    "class House :\n",
    "    def __init__(self, address, numOfRooms, price) :\n",
    "        self.address = address\n",
    "        self.numOfRooms = numOfRooms\n",
    "        self.price = price\n",
    "\n",
    "    def displayHouseDetails(self) :\n",
    "        print(\"House Details: \\nAddress :\", self.address, \", Number of Rooms :\", self.numOfRooms, \", Price :\", self.price)\n",
    "\n",
    "house = House(address=\"456 Elm St\", numOfRooms=4, price=350000)\n",
    "house.displayHouseDetails()\n"
   ]
  },
  {
   "cell_type": "code",
   "execution_count": 10,
   "metadata": {},
   "outputs": [
    {
     "name": "stdout",
     "output_type": "stream",
     "text": [
      "Original Price :\n",
      "Title : Python 101 , Author : John Doe , Price : 29.99\n",
      "Discounted Price :\n",
      "Title : Python 101 , Author : John Doe , Price : 26.99\n"
     ]
    }
   ],
   "source": [
    "# Instance Methods\n",
    "\n",
    "# 3. Create a class Book with attributes title, author, and price. Implement a method discount to apply a discount to the book's price.\n",
    "\n",
    "class Book :\n",
    "    def __init__(self, title, author, price) :\n",
    "        self.title = title\n",
    "        self.author = author\n",
    "        self.price = price\n",
    "    \n",
    "    def applyDiscount(self, discountRate) :\n",
    "        self.price = round(self.price * (1 - discountRate), 2)\n",
    "\n",
    "    def displayBookDetails(self) :\n",
    "        print(\"Title :\", self.title, \", Author :\", self.author, \", Price :\", self.price)\n",
    "\n",
    "book = Book(\"Python 101\", \"John Doe\", 29.99)\n",
    "print(\"Original Price :\")\n",
    "book.displayBookDetails()\n",
    "book.applyDiscount(0.1)\n",
    "print(\"Discounted Price :\")\n",
    "book.displayBookDetails()\n"
   ]
  },
  {
   "cell_type": "code",
   "execution_count": 11,
   "metadata": {},
   "outputs": [
    {
     "name": "stdout",
     "output_type": "stream",
     "text": [
      "Retuarant Details : \n",
      "Name : Sushi Place , Cuisine Type : Japanese , Ratings : 4.8\n"
     ]
    }
   ],
   "source": [
    "# 4. Create a class Restaurant with attributes name, cuisine_type, and rating. Implement a method update_rating to change the restaurant's rating.\n",
    "\n",
    "class Restuarant :\n",
    "    def __init__(self, name, cuisineType, rating) :\n",
    "        self.name = name\n",
    "        self.cuisineType = cuisineType\n",
    "        self.rating = rating\n",
    "    \n",
    "    def updateRatings(self, newRating) :\n",
    "        self.rating = newRating\n",
    "\n",
    "    def displayRestuarantDetails(self) :\n",
    "        print(\"Retuarant Details : \\nName :\", self.name, \", Cuisine Type :\", self.cuisineType, \", Ratings :\", self.rating)\n",
    "\n",
    "restuarant = Restuarant(\"Sushi Place\", \"Japanese\", 4.5)\n",
    "restuarant.updateRatings(4.8)\n",
    "restuarant.displayRestuarantDetails()\n"
   ]
  },
  {
   "cell_type": "code",
   "execution_count": 12,
   "metadata": {},
   "outputs": [
    {
     "name": "stdout",
     "output_type": "stream",
     "text": [
      "Name : Greenwood High School , Students : 350 , Total Students : 350\n"
     ]
    }
   ],
   "source": [
    "# Class Variables\n",
    "\n",
    "# 5. Create a class School with a class variable total_students and instance variables name and students. Implement a method to enroll students and update the total count.\n",
    "\n",
    "class School :\n",
    "    totalStudents = 0\n",
    "\n",
    "    def __init__(self, name, students) :\n",
    "        self.name = name\n",
    "        self.students = students\n",
    "        School.totalStudents += students\n",
    "    \n",
    "    def enrollNewStudents(self, newStudents) :\n",
    "        self.students += newStudents\n",
    "        School.totalStudents += newStudents\n",
    "    \n",
    "    def displaySchoolInfo(self) :\n",
    "        print(\"Name :\", self.name, \", Students :\", self.students, \", Total Students :\", School.totalStudents)\n",
    "\n",
    "school = School(\"Greenwood High School\", 300)\n",
    "school.enrollNewStudents(50)\n",
    "school.displaySchoolInfo()\n",
    "\n"
   ]
  },
  {
   "cell_type": "code",
   "execution_count": 13,
   "metadata": {},
   "outputs": [
    {
     "name": "stdout",
     "output_type": "stream",
     "text": [
      "Name : TechCorp  Number of Employees : 220 , Industry : Technology\n"
     ]
    }
   ],
   "source": [
    "# 6. Create a class Company with a class variable industry and instance variables name and num_employees. Implement a method to update the number of employees.\n",
    "\n",
    "class Company :\n",
    "    industry = \"Technology\"\n",
    "\n",
    "    def __init__(self, name, numOfEmployees) :\n",
    "        self.name = name\n",
    "        self.numOfEmployees = numOfEmployees\n",
    "\n",
    "    def updateNumOfEmployees(self, newEmployeeCount) :\n",
    "        self.numOfEmployees = newEmployeeCount\n",
    "\n",
    "    def displayCompanyInfo(self) :\n",
    "        print(\"Name :\", self.name, \" Number of Employees :\", self.numOfEmployees, \", Industry :\", Company.industry)\n",
    "\n",
    "company = Company(\"TechCorp\", 200)\n",
    "company.updateNumOfEmployees(220)\n",
    "company.displayCompanyInfo()\n"
   ]
  },
  {
   "cell_type": "code",
   "execution_count": 17,
   "metadata": {},
   "outputs": [
    {
     "name": "stdout",
     "output_type": "stream",
     "text": [
      "17 a prime number : True\n"
     ]
    }
   ],
   "source": [
    "# Static Methods\n",
    "\n",
    "# 7. Create a class MathUtils with a static method is_prime to check if a number is prime.\n",
    "\n",
    "class MathUtils :\n",
    "    @staticmethod\n",
    "    def isPrime(number) :\n",
    "        if number <= 1 :\n",
    "            return False\n",
    "        for i in range(2, int(number ** 0.5) + 1) :\n",
    "            if number % i == 0 :\n",
    "                return False\n",
    "        return True\n",
    "\n",
    "number = int(input(\"Enter the number :\"))\n",
    "print(number, \"a prime number :\", MathUtils.isPrime(number))\n"
   ]
  },
  {
   "cell_type": "code",
   "execution_count": 19,
   "metadata": {},
   "outputs": [
    {
     "name": "stdout",
     "output_type": "stream",
     "text": [
      "25°C in Fahrenheit is: 77.0\n"
     ]
    }
   ],
   "source": [
    "# 8. Create a class TemperatureConverter with a static method celsius_to_fahrenheit to convert Celsius to Fahrenheit.\n",
    "\n",
    "class TemperatureConverter :\n",
    "    @staticmethod\n",
    "    def celsiusToFahrenheit(celcius) :\n",
    "        return (celcius * 9 / 5) + 32\n",
    "    \n",
    "celsius = int(input(\"Enter temperature in Celsius :\"))\n",
    "print(f\"{celsius}°C in Fahrenheit is:\", TemperatureConverter.celsiusToFahrenheit(celsius))\n"
   ]
  },
  {
   "cell_type": "code",
   "execution_count": 20,
   "metadata": {},
   "outputs": [
    {
     "name": "stdout",
     "output_type": "stream",
     "text": [
      "Name : Alice , Salary : 70000 , Programming Language : Python\n"
     ]
    }
   ],
   "source": [
    "# Inheritance\n",
    "\n",
    "# 9.  Create a base class Employee with attributes name and salary. Create a subclass Developer that adds an attribute.\n",
    "\n",
    "class Employee :\n",
    "    def __init__(self, name, salary) :\n",
    "        self.name = name\n",
    "        self.salary = salary\n",
    "\n",
    "class Developer(Employee) :\n",
    "    def __init__(self, name, salary, programmingLanguage):\n",
    "        super().__init__(name, salary)\n",
    "        self.programmingLanguage = programmingLanguage\n",
    "\n",
    "dev = Developer(name=\"Alice\", salary=70000, programmingLanguage=\"Python\")\n",
    "print(\"Name :\", dev.name, \", Salary :\", dev.salary, \", Programming Language :\", dev.programmingLanguage)\n"
   ]
  },
  {
   "cell_type": "code",
   "execution_count": 22,
   "metadata": {},
   "outputs": [
    {
     "name": "stdout",
     "output_type": "stream",
     "text": [
      "Appliance is turned ON.\n",
      "Washing Machine LG is turned ON.\n"
     ]
    }
   ],
   "source": [
    "# 10. Create a base class Appliance with a method turn_on. Create a subclass WashingMachine that overrides the turn_on method.\n",
    "\n",
    "class Appliance :\n",
    "    def turnOn(self) :\n",
    "        return \"Appliance is turned ON.\"\n",
    "\n",
    "class WashingMachine(Appliance) :\n",
    "    def __init__(self, model) :\n",
    "        self.model = model\n",
    "    \n",
    "    def turnOn(self):\n",
    "        return f\"Washing Machine {self.model} is turned ON.\"\n",
    "\n",
    "appliance = Appliance()\n",
    "washingMachine = WashingMachine(model=\"LG\")\n",
    "\n",
    "print(appliance.turnOn())\n",
    "print(washingMachine.turnOn())\n"
   ]
  },
  {
   "cell_type": "code",
   "execution_count": 24,
   "metadata": {},
   "outputs": [
    {
     "name": "stdout",
     "output_type": "stream",
     "text": [
      "Username : user1\n",
      "Password : pass12345\n"
     ]
    }
   ],
   "source": [
    "# 11. Create a class PrivateData with private attributes username and password. Implement methods to get and set these attributes.\n",
    "\n",
    "class PrivateData :\n",
    "    def __init__(self, username, password) :\n",
    "        self.username = username\n",
    "        self.password = password\n",
    "\n",
    "    def getUsername(self) :\n",
    "        return self.username\n",
    "\n",
    "    def SetPassword(self, newPassword) :\n",
    "        self.__password = newPassword\n",
    "    \n",
    "    def getPassword(self) :\n",
    "        return self.password\n",
    "\n",
    "privateData = PrivateData(username=\"user1\", password=\"pass12345\")\n",
    "\n",
    "print(\"Username :\", privateData.getUsername())\n",
    "privateData.SetPassword(\"newpass123\")\n",
    "print(\"Password :\", privateData.getPassword())\n"
   ]
  },
  {
   "cell_type": "code",
   "execution_count": 26,
   "metadata": {},
   "outputs": [
    {
     "name": "stdout",
     "output_type": "stream",
     "text": [
      "Account Number : 987654321 , Balance : 4500\n"
     ]
    }
   ],
   "source": [
    "# 12. Create a class Account with private attributes account_number and balance. Implement methods to deposit and withdraw money.\n",
    "\n",
    "class Account :\n",
    "    def __init__(self, accountNumber, balance) :\n",
    "        self.__accountNumber = accountNumber\n",
    "        self.__balance = balance\n",
    "    \n",
    "    def deposit(self, amount) :\n",
    "        if amount > 0 :\n",
    "            self.__balance += amount\n",
    "    \n",
    "    def withdraw(self, amount) :\n",
    "        if 0 < amount <= self.__balance :\n",
    "            self.__balance -= amount\n",
    "    \n",
    "    def getBalance(self) :\n",
    "        return self.__balance\n",
    "\n",
    "account = Account(accountNumber=\"987654321\", balance=5000)\n",
    "\n",
    "account.deposit(1500)\n",
    "account.withdraw(2000)\n",
    "print(\"Account Number :\", account._Account__accountNumber, \", Balance :\", account.getBalance())\n"
   ]
  },
  {
   "cell_type": "code",
   "execution_count": 28,
   "metadata": {},
   "outputs": [
    {
     "name": "stdout",
     "output_type": "stream",
     "text": [
      "Toyota is driving , Yamaha is riding\n"
     ]
    }
   ],
   "source": [
    "# Polymorphism\n",
    "\n",
    "# 13. Create a function operate_vehicle that takes a vehicle object and calls its move method. Create classes Car and Bike that implement move differently.\n",
    "\n",
    "class Vehicle :\n",
    "    def move(self) :\n",
    "        pass\n",
    "\n",
    "class Car(Vehicle) :\n",
    "    def __init__(self, model) :\n",
    "        self.model = model\n",
    "\n",
    "    def move(self) :\n",
    "        return f\"{self.model} is driving\"\n",
    "    \n",
    "class Bike(Vehicle) :\n",
    "    def __init__(self, model) :\n",
    "        self.model = model\n",
    "    \n",
    "    def move(self) :\n",
    "        return f\"{self.model} is riding\"\n",
    "    \n",
    "def operateVehicle(vehicle) :\n",
    "    return vehicle.move()\n",
    "\n",
    "car = Car(model=\"Toyota\")\n",
    "bike = Bike(model=\"Yamaha\")\n",
    "\n",
    "print(operateVehicle(car), \",\", operateVehicle(bike))\n"
   ]
  },
  {
   "cell_type": "code",
   "execution_count": 31,
   "metadata": {},
   "outputs": [
    {
     "name": "stdout",
     "output_type": "stream",
     "text": [
      "Dell is operating , iPhone is operating\n"
     ]
    }
   ],
   "source": [
    "# 14. Create a function operate_device that takes a device object and calls its operate method. Create classes Laptop and Smartphone that implement operate differently.\n",
    "\n",
    "class Device :\n",
    "    def operate(self) :\n",
    "        pass\n",
    "\n",
    "class Laptop(Device) :\n",
    "    def __init__(self, model) :\n",
    "        self.model = model\n",
    "\n",
    "    def operate(self) :\n",
    "        return f\"{self.model} is operating\"\n",
    "    \n",
    "\n",
    "class Smartphone(Device) :\n",
    "    def __init__(self, model) :\n",
    "        self.model = model\n",
    "    \n",
    "    def operate(self) :\n",
    "        return f\"{self.model} is operating\"\n",
    "\n",
    "def operateDevice(device) :\n",
    "    return device.operate()\n",
    "\n",
    "laptop = Laptop(model=\"Dell\")\n",
    "smartphone = Smartphone(model=\"iPhone\")\n",
    "\n",
    "print(operateDevice(laptop), \",\", operateDevice(smartphone))\n"
   ]
  },
  {
   "cell_type": "code",
   "execution_count": 34,
   "metadata": {},
   "outputs": [
    {
     "name": "stdout",
     "output_type": "stream",
     "text": [
      "Bus 10A is traveling , Train Express is traveling\n"
     ]
    }
   ],
   "source": [
    "# Abstraction\n",
    "\n",
    "# 15. Define an abstract class Transport with an abstract method travel. Create subclasses Bus and Train that implement the travel method.\n",
    "\n",
    "from abc import ABC, abstractmethod\n",
    "\n",
    "class Transport(ABC) :\n",
    "    @abstractmethod\n",
    "    def travel(self) :\n",
    "        pass\n",
    "\n",
    "class Train(Transport) :\n",
    "    def __init__(self, route) :\n",
    "        self.route = route\n",
    "    \n",
    "    def travel(self) :\n",
    "        return f\"Train {self.route} is traveling\"\n",
    "\n",
    "class Bus(Transport) :\n",
    "    def __init__(self, route) :\n",
    "        self.route = route\n",
    "\n",
    "    def travel(self):\n",
    "        return f\"Bus {self.route} is traveling\"\n",
    "\n",
    "bus = Bus(route=\"10A\")\n",
    "train = Train(route=\"Express\")\n",
    "\n",
    "print(bus.travel(), \",\", train.travel())\n"
   ]
  },
  {
   "cell_type": "code",
   "execution_count": 37,
   "metadata": {},
   "outputs": [
    {
     "name": "stdout",
     "output_type": "stream",
     "text": [
      "Processing credit card payment for 123456 , Processing PayPal payment for user@example.com\n"
     ]
    }
   ],
   "source": [
    "# 16. Define an abstract class Payment with an abstract method process. Create subclasses CreditCard and PayPal that implement the process method.\n",
    "\n",
    "from abc import ABC, abstractmethod\n",
    "\n",
    "class Payment(ABC) :\n",
    "    @abstractmethod\n",
    "    def process(self) :\n",
    "        pass\n",
    "\n",
    "class PayPal(Payment) :\n",
    "    def __init__(self, account) :\n",
    "        self.account = account\n",
    "\n",
    "    def process(self) :\n",
    "        return f\"Processing PayPal payment for {self.account}\"\n",
    "    \n",
    "class CreditCard(Payment) :\n",
    "    def __init__(self, number) :\n",
    "        self.number = number\n",
    "\n",
    "    def process(self) :\n",
    "        return f\"Processing credit card payment for {self.number}\"\n",
    "    \n",
    "creditCard = CreditCard(number=\"123456\")\n",
    "paypal = PayPal(account=\"user@example.com\")\n",
    "\n",
    "print(creditCard.process(), \",\", paypal.process())"
   ]
  }
 ],
 "metadata": {
  "kernelspec": {
   "display_name": "Python 3",
   "language": "python",
   "name": "python3"
  },
  "language_info": {
   "codemirror_mode": {
    "name": "ipython",
    "version": 3
   },
   "file_extension": ".py",
   "mimetype": "text/x-python",
   "name": "python",
   "nbconvert_exporter": "python",
   "pygments_lexer": "ipython3",
   "version": "3.12.7"
  }
 },
 "nbformat": 4,
 "nbformat_minor": 2
}
