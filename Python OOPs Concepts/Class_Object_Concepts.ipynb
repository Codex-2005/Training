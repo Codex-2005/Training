{
 "cells": [
  {
   "cell_type": "code",
   "execution_count": 12,
   "metadata": {},
   "outputs": [
    {
     "name": "stdout",
     "output_type": "stream",
     "text": [
      "Name : Alice\n",
      "Age : 20\n",
      "Grades : [90, 85, 88]\n"
     ]
    }
   ],
   "source": [
    "# Assignment 1\n",
    "\n",
    "# Class Definition and Object Instantiation\n",
    "\n",
    "# 1. Create a class to represent a Student with attributes like name, age, and grades.\n",
    "\n",
    "class Student : \n",
    "\n",
    "    def __init__(self, name, age, grades) :\n",
    "        self.name = name\n",
    "        self.age = age\n",
    "        self.grades = grades\n",
    "    \n",
    "    def displayStudentInfo(self) :\n",
    "        print(\"Name :\", self.name)\n",
    "        print(\"Age :\", self.age)\n",
    "        print(\"Grades :\", self.grades)\n",
    "\n",
    "student1 = Student(name=\"Alice\", age=20, grades=[90, 85, 88])\n",
    "student1.displayStudentInfo()"
   ]
  },
  {
   "cell_type": "code",
   "execution_count": 5,
   "metadata": {},
   "outputs": [
    {
     "name": "stdout",
     "output_type": "stream",
     "text": [
      "Employee(name='John Doe', position='Manager', salary=75000)\n",
      "Employee(name='Jane Smith', position='Engineer', salary=80000)\n"
     ]
    }
   ],
   "source": [
    "# 2. Given a CSV file with employee details (name, position, salary), create a class to represent an Employee.\n",
    "\n",
    "import csv\n",
    "\n",
    "class Employee:\n",
    "    def __init__(self, Name, Position, Salary):\n",
    "        self.name = Name\n",
    "        self.position = Position\n",
    "        self.salary = Salary\n",
    "    \n",
    "    def __repr__(self):\n",
    "        return f\"Employee(name='{self.name}', position='{self.position}', salary={self.salary})\"\n",
    "\n",
    "def read_employees_from_csv(file_path):\n",
    "    employees = []\n",
    "    \n",
    "    with open(file_path, newline='') as csvfile:\n",
    "        csv_reader = csv.reader(csvfile)\n",
    "        \n",
    "        for row in csv_reader:\n",
    "            name, position, salary = row[0], row[1], int(row[2])\n",
    "           \n",
    "            employee = Employee(name, position, salary)\n",
    "            employees.append(employee)\n",
    "    return employees\n",
    "\n",
    "file_path = 'employees.csv'\n",
    "employees_list = read_employees_from_csv(file_path)\n",
    "\n",
    "for emp in employees_list:\n",
    "    print(emp)"
   ]
  },
  {
   "cell_type": "code",
   "execution_count": 11,
   "metadata": {},
   "outputs": [
    {
     "name": "stdout",
     "output_type": "stream",
     "text": [
      "Account Number : 12345678\n",
      "Balance : 1000\n"
     ]
    }
   ],
   "source": [
    "# 3. Implement a program that simulates a basic bank account using a BankAccount class.\n",
    "\n",
    "class BankAccount :\n",
    "    \n",
    "    def __init__(self, accountNumber, initialBalance=0) :\n",
    "        self.accountNumber = accountNumber\n",
    "        self.balance = initialBalance\n",
    "\n",
    "    def displayAccountInfo(self) :\n",
    "        print(\"Account Number :\", self.accountNumber)\n",
    "        print(\"Balance :\", self.balance)\n",
    "\n",
    "accountNumber = 12345678\n",
    "initialBalance = 1000\n",
    "\n",
    "account = BankAccount(accountNumber, initialBalance)\n",
    "\n",
    "account.displayAccountInfo()"
   ]
  },
  {
   "cell_type": "code",
   "execution_count": 10,
   "metadata": {},
   "outputs": [
    {
     "name": "stdout",
     "output_type": "stream",
     "text": [
      "Rectangle Area : 15\n",
      "Rectangle Perimeter : 16\n"
     ]
    }
   ],
   "source": [
    "# 4. Write a Python program that uses a Rectangle class to calculate the area and perimeter of a rectangle.\n",
    "\n",
    "class Rectanlge :\n",
    "\n",
    "    def __init__(self, length, width) :\n",
    "        self.length = length\n",
    "        self.width = width\n",
    "\n",
    "    def calculateArea(self) :\n",
    "        return self.length * self.width\n",
    "\n",
    "    def calculatePerimeter(self) :\n",
    "        return 2 * (self.length + self.width)\n",
    "    \n",
    "length = int(input(\"Enter the length : \"))\n",
    "width = int(input(\"Enter the width : \"))\n",
    "\n",
    "rectangle = Rectanlge(length, width)\n",
    "\n",
    "rectArea = rectangle.calculateArea()\n",
    "rectPerimeter = rectangle.calculatePerimeter()\n",
    "\n",
    "print(\"Rectangle Area :\", rectArea)\n",
    "print(\"Rectangle Perimeter :\", rectPerimeter)\n"
   ]
  },
  {
   "cell_type": "code",
   "execution_count": 9,
   "metadata": {},
   "outputs": [
    {
     "name": "stdout",
     "output_type": "stream",
     "text": [
      "Company Name : Toyota\n",
      "Model : Camry\n",
      "Year : 2020\n"
     ]
    }
   ],
   "source": [
    "# 5. Create a class to represent a Car with attributes like make, model, and year.\n",
    "\n",
    "class Car : \n",
    "    \n",
    "    def __init__(self, make, model, year) :\n",
    "        self.make = make\n",
    "        self.model = model\n",
    "        self.year = year\n",
    "\n",
    "    def displayCarInfo(self) :\n",
    "        print(\"Company Name :\", self.make)\n",
    "        print(\"Model :\", self.model)\n",
    "        print(\"Year :\", self.year)\n",
    "    \n",
    "car1 = Car(make=\"Toyota\", model=\"Camry\", year=2020)\n",
    "\n",
    "car1.displayCarInfo()"
   ]
  },
  {
   "cell_type": "code",
   "execution_count": 13,
   "metadata": {},
   "outputs": [
    {
     "name": "stdout",
     "output_type": "stream",
     "text": [
      "Customer Name : John Doe\n",
      "Customer Email ID : john.doe@example.com\n"
     ]
    }
   ],
   "source": [
    "# 6. Given a JSON file with customer data, create a Customer class to store and manipulate the data.\n",
    "\n",
    "import json\n",
    "\n",
    "class Customer :\n",
    "\n",
    "    def __init__(self, name, email) :\n",
    "        self.name = name\n",
    "        self.email = email\n",
    "\n",
    "    def displayCustomerInfo(self) :\n",
    "        print(\"Customer Name :\", self.name)\n",
    "        print(\"Customer Email ID :\", self.email)\n",
    "\n",
    "def loadCustomerInfoFromJson(filePath) :\n",
    "    with open(filePath, 'r') as file :\n",
    "        data = json.load(file)\n",
    "\n",
    "        customer = Customer(name=data['name'], email=data['email'])\n",
    "    return customer\n",
    "\n",
    "filePath = 'customer.json'\n",
    "\n",
    "customer = loadCustomerInfoFromJson(filePath)\n",
    "\n",
    "customer.displayCustomerInfo()\n"
   ]
  },
  {
   "cell_type": "code",
   "execution_count": 14,
   "metadata": {},
   "outputs": [
    {
     "name": "stdout",
     "output_type": "stream",
     "text": [
      "Name : Shara\n",
      "Age : 22\n",
      "Address : 901 E Main St, Greenville, VA\n"
     ]
    }
   ],
   "source": [
    "# 7. Write a program that uses a Person class to keep track of a person's name, age, and address.\n",
    "\n",
    "class Person :\n",
    "\n",
    "    def __init__(self, name, age, address) :\n",
    "        self.name = name\n",
    "        self.age = age\n",
    "        self.address = address\n",
    "\n",
    "    def displayPersonInfo(self) :\n",
    "        print(\"Name :\", self.name)\n",
    "        print(\"Age :\", self.age)\n",
    "        print(\"Address :\", self.address)\n",
    "\n",
    "name = input(\"Enter Name :\")\n",
    "age = int(input(\"Enter Age :\"))\n",
    "address = input(\"Enter Address :\")\n",
    "\n",
    "person1 = Person(name, age, address)\n",
    "\n",
    "person1.displayPersonInfo()"
   ]
  }
 ],
 "metadata": {
  "kernelspec": {
   "display_name": "Python 3",
   "language": "python",
   "name": "python3"
  },
  "language_info": {
   "codemirror_mode": {
    "name": "ipython",
    "version": 3
   },
   "file_extension": ".py",
   "mimetype": "text/x-python",
   "name": "python",
   "nbconvert_exporter": "python",
   "pygments_lexer": "ipython3",
   "version": "3.12.7"
  }
 },
 "nbformat": 4,
 "nbformat_minor": 2
}
