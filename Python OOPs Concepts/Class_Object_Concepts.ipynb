{
 "cells": [
  {
   "cell_type": "code",
   "execution_count": 1,
   "metadata": {},
   "outputs": [
    {
     "name": "stdout",
     "output_type": "stream",
     "text": [
      "Name :  Alice\n",
      "Age :  20\n",
      "Grades :  [90, 85, 88]\n"
     ]
    }
   ],
   "source": [
    "# Assignment 1\n",
    "\n",
    "# Class Definition and Object Instantiation\n",
    "\n",
    "# 1. Create a class to represent a Student with attributes like name, age, and grades.\n",
    "\n",
    "class Student : \n",
    "\n",
    "    def __init__(self, name, age, grades) :\n",
    "        self.name = name\n",
    "        self.age = age\n",
    "        self.grades = grades\n",
    "    \n",
    "    def displayStudentInfo(self) :\n",
    "        print(\"Name : \", self.name)\n",
    "        print(\"Age : \", self.age)\n",
    "        print(\"Grades : \", self.grades)\n",
    "\n",
    "student1 = Student(name=\"Alice\", age=20, grades=[90, 85, 88])\n",
    "student1.displayStudentInfo()"
   ]
  }
 ],
 "metadata": {
  "kernelspec": {
   "display_name": "Python 3",
   "language": "python",
   "name": "python3"
  },
  "language_info": {
   "codemirror_mode": {
    "name": "ipython",
    "version": 3
   },
   "file_extension": ".py",
   "mimetype": "text/x-python",
   "name": "python",
   "nbconvert_exporter": "python",
   "pygments_lexer": "ipython3",
   "version": "3.12.7"
  }
 },
 "nbformat": 4,
 "nbformat_minor": 2
}
