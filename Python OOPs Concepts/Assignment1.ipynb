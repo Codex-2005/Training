{
 "cells": [
  {
   "cell_type": "code",
   "execution_count": 12,
   "metadata": {},
   "outputs": [
    {
     "name": "stdout",
     "output_type": "stream",
     "text": [
      "Name : Alice\n",
      "Age : 20\n",
      "Grades : [90, 85, 88]\n"
     ]
    }
   ],
   "source": [
    "# Assignment 1\n",
    "\n",
    "# Class Definition and Object Instantiation\n",
    "\n",
    "# 1. Create a class to represent a Student with attributes like name, age, and grades.\n",
    "\n",
    "class Student : \n",
    "\n",
    "    def __init__(self, name, age, grades) :\n",
    "        self.name = name\n",
    "        self.age = age\n",
    "        self.grades = grades\n",
    "    \n",
    "    def displayStudentInfo(self) :\n",
    "        print(\"Name :\", self.name)\n",
    "        print(\"Age :\", self.age)\n",
    "        print(\"Grades :\", self.grades)\n",
    "\n",
    "student1 = Student(name=\"Alice\", age=20, grades=[90, 85, 88])\n",
    "student1.displayStudentInfo()"
   ]
  },
  {
   "cell_type": "code",
   "execution_count": 5,
   "metadata": {},
   "outputs": [
    {
     "name": "stdout",
     "output_type": "stream",
     "text": [
      "Employee(name='John Doe', position='Manager', salary=75000)\n",
      "Employee(name='Jane Smith', position='Engineer', salary=80000)\n"
     ]
    }
   ],
   "source": [
    "# 2. Given a CSV file with employee details (name, position, salary), create a class to represent an Employee.\n",
    "\n",
    "import csv\n",
    "\n",
    "class Employee:\n",
    "    def __init__(self, Name, Position, Salary):\n",
    "        self.name = Name\n",
    "        self.position = Position\n",
    "        self.salary = Salary\n",
    "    \n",
    "    def __repr__(self):\n",
    "        return f\"Employee(name='{self.name}', position='{self.position}', salary={self.salary})\"\n",
    "\n",
    "def read_employees_from_csv(file_path):\n",
    "    employees = []\n",
    "    \n",
    "    with open(file_path, newline='') as csvfile:\n",
    "        csv_reader = csv.reader(csvfile)\n",
    "        \n",
    "        for row in csv_reader:\n",
    "            name, position, salary = row[0], row[1], int(row[2])\n",
    "            employee = Employee(name, position, salary)\n",
    "            employees.append(employee)\n",
    "    return employees\n",
    "\n",
    "file_path = 'employees.csv'\n",
    "employees_list = read_employees_from_csv(file_path)\n",
    "\n",
    "for emp in employees_list:\n",
    "    print(emp)"
   ]
  },
  {
   "cell_type": "code",
   "execution_count": 11,
   "metadata": {},
   "outputs": [
    {
     "name": "stdout",
     "output_type": "stream",
     "text": [
      "Account Number : 12345678\n",
      "Balance : 1000\n"
     ]
    }
   ],
   "source": [
    "# 3. Implement a program that simulates a basic bank account using a BankAccount class.\n",
    "\n",
    "class BankAccount :\n",
    "    \n",
    "    def __init__(self, accountNumber, initialBalance=0) :\n",
    "        self.accountNumber = accountNumber\n",
    "        self.balance = initialBalance\n",
    "\n",
    "    def displayAccountInfo(self) :\n",
    "        print(\"Account Number :\", self.accountNumber)\n",
    "        print(\"Balance :\", self.balance)\n",
    "\n",
    "accountNumber = 12345678\n",
    "initialBalance = 1000\n",
    "\n",
    "account = BankAccount(accountNumber, initialBalance)\n",
    "\n",
    "account.displayAccountInfo()"
   ]
  },
  {
   "cell_type": "code",
   "execution_count": 10,
   "metadata": {},
   "outputs": [
    {
     "name": "stdout",
     "output_type": "stream",
     "text": [
      "Rectangle Area : 15\n",
      "Rectangle Perimeter : 16\n"
     ]
    }
   ],
   "source": [
    "# 4. Write a Python program that uses a Rectangle class to calculate the area and perimeter of a rectangle.\n",
    "\n",
    "class Rectanlge :\n",
    "\n",
    "    def __init__(self, length, width) :\n",
    "        self.length = length\n",
    "        self.width = width\n",
    "\n",
    "    def calculateArea(self) :\n",
    "        return self.length * self.width\n",
    "\n",
    "    def calculatePerimeter(self) :\n",
    "        return 2 * (self.length + self.width)\n",
    "    \n",
    "length = int(input(\"Enter the length : \"))\n",
    "width = int(input(\"Enter the width : \"))\n",
    "\n",
    "rectangle = Rectanlge(length, width)\n",
    "\n",
    "rectArea = rectangle.calculateArea()\n",
    "rectPerimeter = rectangle.calculatePerimeter()\n",
    "\n",
    "print(\"Rectangle Area :\", rectArea)\n",
    "print(\"Rectangle Perimeter :\", rectPerimeter)\n"
   ]
  },
  {
   "cell_type": "code",
   "execution_count": 9,
   "metadata": {},
   "outputs": [
    {
     "name": "stdout",
     "output_type": "stream",
     "text": [
      "Company Name : Toyota\n",
      "Model : Camry\n",
      "Year : 2020\n"
     ]
    }
   ],
   "source": [
    "# 5. Create a class to represent a Car with attributes like make, model, and year.\n",
    "\n",
    "class Car : \n",
    "    \n",
    "    def __init__(self, make, model, year) :\n",
    "        self.make = make\n",
    "        self.model = model\n",
    "        self.year = year\n",
    "\n",
    "    def displayCarInfo(self) :\n",
    "        print(\"Company Name :\", self.make)\n",
    "        print(\"Model :\", self.model)\n",
    "        print(\"Year :\", self.year)\n",
    "    \n",
    "car1 = Car(make=\"Toyota\", model=\"Camry\", year=2020)\n",
    "\n",
    "car1.displayCarInfo()"
   ]
  },
  {
   "cell_type": "code",
   "execution_count": 13,
   "metadata": {},
   "outputs": [
    {
     "name": "stdout",
     "output_type": "stream",
     "text": [
      "Customer Name : John Doe\n",
      "Customer Email ID : john.doe@example.com\n"
     ]
    }
   ],
   "source": [
    "# 6. Given a JSON file with customer data, create a Customer class to store and manipulate the data.\n",
    "\n",
    "import json\n",
    "\n",
    "class Customer :\n",
    "\n",
    "    def __init__(self, name, email) :\n",
    "        self.name = name\n",
    "        self.email = email\n",
    "\n",
    "    def displayCustomerInfo(self) :\n",
    "        print(\"Customer Name :\", self.name)\n",
    "        print(\"Customer Email ID :\", self.email)\n",
    "\n",
    "def loadCustomerInfoFromJson(filePath) :\n",
    "    with open(filePath, 'r') as file :\n",
    "        data = json.load(file)\n",
    "\n",
    "        customer = Customer(name=data['name'], email=data['email'])\n",
    "    return customer\n",
    "\n",
    "filePath = 'customer.json'\n",
    "\n",
    "customer = loadCustomerInfoFromJson(filePath)\n",
    "\n",
    "customer.displayCustomerInfo()\n"
   ]
  },
  {
   "cell_type": "code",
   "execution_count": 14,
   "metadata": {},
   "outputs": [
    {
     "name": "stdout",
     "output_type": "stream",
     "text": [
      "Name : Shara\n",
      "Age : 22\n",
      "Address : 901 E Main St, Greenville, VA\n"
     ]
    }
   ],
   "source": [
    "# 7. Write a program that uses a Person class to keep track of a person's name, age, and address.\n",
    "\n",
    "class Person :\n",
    "\n",
    "    def __init__(self, name, age, address) :\n",
    "        self.name = name\n",
    "        self.age = age\n",
    "        self.address = address\n",
    "\n",
    "    def displayPersonInfo(self) :\n",
    "        print(\"Name :\", self.name)\n",
    "        print(\"Age :\", self.age)\n",
    "        print(\"Address :\", self.address)\n",
    "\n",
    "name = input(\"Enter Name :\")\n",
    "age = int(input(\"Enter Age :\"))\n",
    "address = input(\"Enter Address :\")\n",
    "\n",
    "person1 = Person(name, age, address)\n",
    "\n",
    "person1.displayPersonInfo()"
   ]
  },
  {
   "cell_type": "code",
   "execution_count": 2,
   "metadata": {},
   "outputs": [
    {
     "name": "stdout",
     "output_type": "stream",
     "text": [
      "Circle Area : 50.27\n",
      "Circle Circumference : 25.13\n"
     ]
    }
   ],
   "source": [
    "# 8. Implement a program that uses a Circle class to calculate the area and circumference of multiple circles.\n",
    "\n",
    "import math\n",
    "\n",
    "class Circle :\n",
    "\n",
    "    def __init__(self, radius) :\n",
    "        self.radius = radius\n",
    "\n",
    "    def calculateArea(self) :\n",
    "        return round(math.pi * self.radius ** 2, 2)\n",
    "    \n",
    "    def calculateCircumference(self) :\n",
    "        return round(2 * math.pi * self.radius, 2)\n",
    "    \n",
    "radius = int(input(\"Enter radius :\"))\n",
    "\n",
    "circle1 = Circle(radius)\n",
    "\n",
    "print(\"Circle Area :\", circle1.calculateArea())\n",
    "print(\"Circle Circumference :\", circle1.calculateCircumference())\n"
   ]
  },
  {
   "cell_type": "code",
   "execution_count": 11,
   "metadata": {},
   "outputs": [
    {
     "name": "stdout",
     "output_type": "stream",
     "text": [
      "Product(name='Laptop', position='1000', salary=5)\n",
      "Product(name='Phone', position='500', salary=10)\n"
     ]
    }
   ],
   "source": [
    "# 9. Given a CSV file with product details (name, price, quantity), create a Product class to manage the data.\n",
    "\n",
    "import csv\n",
    "\n",
    "class Product :\n",
    "\n",
    "    def __init__(self, name, price, quantity) :\n",
    "        self.name = name\n",
    "        self.price = price\n",
    "        self.quantity = quantity\n",
    "\n",
    "    def __repr__(self):\n",
    "        return f\"Product(name='{self.name}', position='{self.price}', salary={self.quantity})\"\n",
    "\n",
    "filePath = 'products.csv'\n",
    "products = []\n",
    "\n",
    "with open(filePath, newline='') as file :\n",
    "    reader = csv.reader(file)\n",
    "    for row in reader :\n",
    "        name, price, quantity = row[0], int(row[1]), int(row[2])\n",
    "        product = Product(name, price, quantity)\n",
    "        products.append(product)\n",
    "\n",
    "for product in products :\n",
    "    print(product)\n",
    "    "
   ]
  },
  {
   "cell_type": "code",
   "execution_count": 5,
   "metadata": {},
   "outputs": [
    {
     "name": "stdout",
     "output_type": "stream",
     "text": [
      "Movie Title : Inception Director : Christopher Nolan Rating : 8.8\n"
     ]
    }
   ],
   "source": [
    "# 10. Create a class to represent a Movie with attributes like title, director, and rating.\n",
    "\n",
    "class Movie :\n",
    "\n",
    "    def __init__(self, title, director, rating) :\n",
    "        self.title = title\n",
    "        self.director = director\n",
    "        self.rating = rating\n",
    "    \n",
    "    def displayMovieInfo(self) :\n",
    "        print(\"Movie Title :\", self.title, \"Director :\", self.director, \"Rating :\", self.rating)\n",
    "\n",
    "movie = Movie(title=\"Inception\", director=\"Christopher Nolan\", rating=8.8)\n",
    "\n",
    "movie.displayMovieInfo()\n"
   ]
  },
  {
   "cell_type": "code",
   "execution_count": 3,
   "metadata": {},
   "outputs": [
    {
     "name": "stdout",
     "output_type": "stream",
     "text": [
      "Circle Area : 50.27\n",
      "Circle Perimeter : 25.13\n",
      "Square Area : 25\n",
      "Square Perimeter : 20\n"
     ]
    }
   ],
   "source": [
    "# Class Hierarchies and Inheritance\n",
    "\n",
    "# 1. Create a base class Shape with methods to calculate area and perimeter, and derive classes Circle and Square.\n",
    "\n",
    "import math\n",
    "\n",
    "class Shape :\n",
    "    def area(self) :\n",
    "        pass\n",
    "    def perimeter(self) :\n",
    "        pass\n",
    "\n",
    "class Circle(Shape) :\n",
    "    def __init__(self, radius) :\n",
    "        self.radius = radius\n",
    "\n",
    "    def area(self) :\n",
    "        return round(math.pi * (self.radius**2), 2)\n",
    "    \n",
    "    def perimeter(self) :\n",
    "        return round(2 * math.pi * self.radius, 2)\n",
    "    \n",
    "class Square(Shape) :\n",
    "    def __init__(self, side):\n",
    "        self.side = side\n",
    "\n",
    "    def area(self) :\n",
    "        return self.side ** 2\n",
    "\n",
    "    def perimeter(self):\n",
    "        return 4 * self.side\n",
    "    \n",
    "circle1 = Circle(radius=4)\n",
    "square = Square(side=5)\n",
    "\n",
    "print(\"Circle Area :\", circle1.area())\n",
    "print(\"Circle Perimeter :\", circle1.perimeter())\n",
    "print(\"Square Area :\", square.area())\n",
    "print(\"Square Perimeter :\", square.perimeter())"
   ]
  },
  {
   "cell_type": "code",
   "execution_count": 4,
   "metadata": {},
   "outputs": [
    {
     "name": "stdout",
     "output_type": "stream",
     "text": [
      "Manager : John Doe, Department: Sales\n",
      "Engineer : Jane Smith, Field: Software\n"
     ]
    }
   ],
   "source": [
    "# 2. Implement a class hierarchy to represent different types of employees (Manager, Engineer) with their attributes.\n",
    "\n",
    "class Employee :\n",
    "    def __init__(self, name) :\n",
    "        self.name = name\n",
    "\n",
    "class Manager(Employee) :\n",
    "    def __init__(self, name, department):\n",
    "        super().__init__(name)\n",
    "        self.department = department\n",
    "    \n",
    "    def __repr__(self) :\n",
    "        return  f\"Manager : {self.name}, Department: {self.department}\"\n",
    "    \n",
    "class Engineer(Employee) :\n",
    "    def __init__(self, name, field):\n",
    "        super().__init__(name)\n",
    "        self.field = field\n",
    "    \n",
    "    def __repr__(self) :\n",
    "        return  f\"Engineer : {self.name}, Field: {self.field}\"\n",
    "    \n",
    "manager = Manager(name=\"John Doe\", department=\"Sales\")\n",
    "engineer = Engineer(name=\"Jane Smith\", field=\"Software\")\n",
    "\n",
    "print(manager)\n",
    "print(engineer)\n"
   ]
  },
  {
   "cell_type": "code",
   "execution_count": 5,
   "metadata": {},
   "outputs": [
    {
     "name": "stdout",
     "output_type": "stream",
     "text": [
      "Triangle area: 7.5\n",
      "Rectangle area: 8\n"
     ]
    }
   ],
   "source": [
    "# 3. Write a Python program that uses inheritance to represent a hierarchy of shapes (Triangle, Rectangle, etc.)\n",
    "\n",
    "class Shape:\n",
    "    def area(self):\n",
    "        pass\n",
    "\n",
    "class Triangle(Shape):\n",
    "    def __init__(self, base, height):\n",
    "        self.base = base\n",
    "        self.height = height\n",
    "\n",
    "    def area(self):\n",
    "        return 0.5 * self.base * self.height\n",
    "\n",
    "class Rectangle(Shape):\n",
    "    def __init__(self, length, width):\n",
    "        self.length = length\n",
    "        self.width = width\n",
    "\n",
    "    def area(self):\n",
    "        return self.length * self.width\n",
    "\n",
    "triangle = Triangle(base=5, height=3)\n",
    "rectangle = Rectangle(length=4, width=2)\n",
    "\n",
    "print(\"Triangle area:\", triangle.area())    \n",
    "print(\"Rectangle area:\", rectangle.area()) "
   ]
  },
  {
   "cell_type": "code",
   "execution_count": 6,
   "metadata": {},
   "outputs": [
    {
     "name": "stdout",
     "output_type": "stream",
     "text": [
      "Bird: Parrot, Can Fly: True\n",
      "Fish: Goldfish, Can Swim: True\n"
     ]
    }
   ],
   "source": [
    "# 4. Create a class hierarchy to represent different types of animals (Bird, Fish) with their own attributes and methods.\n",
    "\n",
    "class Animal:\n",
    "    def __init__(self, name):\n",
    "        self.name = name\n",
    "\n",
    "class Bird(Animal):\n",
    "    def __init__(self, name, can_fly):\n",
    "        super().__init__(name)\n",
    "        self.can_fly = can_fly\n",
    "\n",
    "    def __repr__(self):\n",
    "        return f\"Bird: {self.name}, Can Fly: {self.can_fly}\"\n",
    "\n",
    "class Fish(Animal):\n",
    "    def __init__(self, name, can_swim):\n",
    "        super().__init__(name)\n",
    "        self.can_swim = can_swim\n",
    "\n",
    "    def __repr__(self):\n",
    "        return f\"Fish: {self.name}, Can Swim: {self.can_swim}\"\n",
    "\n",
    "bird = Bird(name=\"Parrot\", can_fly=True)\n",
    "fish = Fish(name=\"Goldfish\", can_swim=True)\n",
    "\n",
    "print(bird) \n",
    "print(fish)"
   ]
  },
  {
   "cell_type": "code",
   "execution_count": 10,
   "metadata": {},
   "outputs": [
    {
     "name": "stdout",
     "output_type": "stream",
     "text": [
      "Product(name='Laptop', price=1000, quantity=5)\n"
     ]
    }
   ],
   "source": [
    "# 5. Given a JSON file with product details (name, price, quantity), create a Product class with encapsulated attributes.\n",
    "\n",
    "import json\n",
    "\n",
    "class Product :\n",
    "\n",
    "    def __init__(self, name, price, quantity) :\n",
    "        self.name = name\n",
    "        self.price = price\n",
    "        self.quantity = quantity\n",
    "\n",
    "    def __repr__(self):\n",
    "        return f\"Product(name='{self.name}', price={self.price}, quantity={self.quantity})\"\n",
    "\n",
    "def loadProductInfoFromJson(filePath) :\n",
    "    with open(filePath, 'r') as file :\n",
    "        data = json.load(file)\n",
    "\n",
    "        product = Product(name=data['name'], price=data['price'], quantity=data['quantity'])\n",
    "    return product\n",
    "\n",
    "filePath = 'products.json'\n",
    "\n",
    "product = loadProductInfoFromJson(filePath)\n",
    "print(product)"
   ]
  },
  {
   "cell_type": "code",
   "execution_count": 11,
   "metadata": {},
   "outputs": [
    {
     "name": "stdout",
     "output_type": "stream",
     "text": [
      "Car : Toyota Camry\n",
      "Bike : Yamaha MT-07\n"
     ]
    }
   ],
   "source": [
    "# 6. Implement a program that uses inheritance to represent a hierarchy of vehicles (Car, Bike, Truck, etc.).\n",
    "\n",
    "class Vehicle :\n",
    "    def __init__(self, make, model) :\n",
    "        self.make = make\n",
    "        self.model = model\n",
    "    \n",
    "class Car(Vehicle) :\n",
    "    def __repr__(self) :\n",
    "        return f\"Car : {self.make} {self.model}\"\n",
    "    \n",
    "class Bike(Vehicle) :\n",
    "    def __repr__(self) :\n",
    "        return f\"Bike : {self.make} {self.model}\"\n",
    "\n",
    "car = Car(make=\"Toyota\", model=\"Camry\")\n",
    "bike = Bike(make=\"Yamaha\", model=\"MT-07\")\n",
    "\n",
    "print(car)\n",
    "print(bike)\n"
   ]
  },
  {
   "cell_type": "code",
   "execution_count": 13,
   "metadata": {},
   "outputs": [
    {
     "name": "stdout",
     "output_type": "stream",
     "text": [
      "Username: 'John Doe', password: '*********\n"
     ]
    }
   ],
   "source": [
    "# 7. Write a Python program that uses encapsulation to protect sensitive information in a User class.\n",
    "\n",
    "class User :\n",
    "    def __init__(self, username, password) :\n",
    "        self.username = username\n",
    "        self.password = password\n",
    "\n",
    "    def displayInfo(self) :\n",
    "        return f\"Username: '{self.username}', password: '*********\"\n",
    "    \n",
    "user = User(username=\"John Doe\", password=\"secure123\")\n",
    "print(user.displayInfo())\n"
   ]
  }
 ],
 "metadata": {
  "kernelspec": {
   "display_name": "Python 3",
   "language": "python",
   "name": "python3"
  },
  "language_info": {
   "codemirror_mode": {
    "name": "ipython",
    "version": 3
   },
   "file_extension": ".py",
   "mimetype": "text/x-python",
   "name": "python",
   "nbconvert_exporter": "python",
   "pygments_lexer": "ipython3",
   "version": "3.12.7"
  }
 },
 "nbformat": 4,
 "nbformat_minor": 2
}
