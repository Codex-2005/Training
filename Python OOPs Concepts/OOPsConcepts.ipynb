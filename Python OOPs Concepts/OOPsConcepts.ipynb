{
 "cells": [
  {
   "cell_type": "code",
   "execution_count": 4,
   "metadata": {},
   "outputs": [
    {
     "name": "stdout",
     "output_type": "stream",
     "text": [
      "Original data before update :\n",
      "Email : email@email.com , Password : 12345\n",
      "Updated Data :\n",
      "Email : newemail@email.com , Password : abcde\n"
     ]
    }
   ],
   "source": [
    "#  Instance Methods\n",
    "\n",
    "# 1. Define a class User with attributes username, email, and password. Implement instance methods update_email and update_password to maintain and update the user's email and password.\n",
    "\n",
    "class User :\n",
    "    def __init__(self, username, email, password) :\n",
    "        self.username = username\n",
    "        self.email = email\n",
    "        self.password = password\n",
    "    \n",
    "    def updateEmail(self, newEmail) :\n",
    "        self.email = newEmail\n",
    "\n",
    "    def updatePassword(self, newPassword) :\n",
    "        self.password = newPassword\n",
    "\n",
    "user = User(\"username\", \"email@email.com\", \"12345\")\n",
    "print(\"Original data before update :\\nEmail :\", user.email, \", Password :\", user.password)\n",
    "\n",
    "user.updateEmail(\"newemail@email.com\")\n",
    "user.updatePassword(\"abcde\")\n",
    "print(\"Updated Data :\\nEmail :\", user.email, \", Password :\", user.password)"
   ]
  },
  {
   "cell_type": "code",
   "execution_count": 3,
   "metadata": {},
   "outputs": [
    {
     "name": "stdout",
     "output_type": "stream",
     "text": [
      "Player details :\n",
      "Name : Player1 , Score : 10 , Health : 90\n"
     ]
    }
   ],
   "source": [
    "# 2. Create a class Player with attributes name, score, and health. Implement instance methods increase_score, decrease_health, and heal to manage the player's state.\n",
    "\n",
    "class Player :\n",
    "    def __init__(self, name, score=0, health=100) :\n",
    "        self.name = name\n",
    "        self.score = score\n",
    "        self.health = health\n",
    "\n",
    "    def increaseScore(self, amount) :\n",
    "        self.score += amount\n",
    "\n",
    "    def decreaseHealth(self, amount) :\n",
    "        self.health -= amount\n",
    "        if self.health < 0 :\n",
    "            self.health = 0\n",
    "\n",
    "    def heal(self, amount) :\n",
    "        self.health += amount\n",
    "        if self.health > 100 :\n",
    "            self.health = 100\n",
    "\n",
    "player = Player(\"Player1\", 0, 100)\n",
    "player.increaseScore(10)\n",
    "player.decreaseHealth(20)\n",
    "player.heal(10)\n",
    "\n",
    "print(\"Player details :\\nName :\", player.name, \", Score :\", player.score, \", Health :\", player.health)\n"
   ]
  },
  {
   "cell_type": "code",
   "execution_count": 5,
   "metadata": {},
   "outputs": [
    {
     "name": "stdout",
     "output_type": "stream",
     "text": [
      "Deposited 500 New balance is 1500\n",
      "Withdrawal 200 New balance is 1300\n",
      "Withdrawal of 1500 failed. Insufficient funds. Current balance : 1300\n"
     ]
    }
   ],
   "source": [
    "# 3.  Implement a class BankAccount with attributes account_number and balance. Write instance methods deposit and withdraw to manage the balance, ensuring the balance cannot go negative.\n",
    "\n",
    "class BankAccount :\n",
    "    def __init__(self, accountNumber, balance=0) :\n",
    "        self.accountNumber = accountNumber\n",
    "        self.balance = balance\n",
    "\n",
    "    def deposit(self, amount) :\n",
    "        if amount >0 :\n",
    "            self.balance += amount\n",
    "            print(\"Deposited\", amount, \"New balance is\", self.balance)\n",
    "        else :\n",
    "            print(\"Deposit amount must be positive.\")\n",
    "    \n",
    "    def withdraw(self, amount) :\n",
    "        if amount > self.balance :\n",
    "            print(\"Withdrawal of\", amount, \"failed. Insufficient funds. Current balance :\", self.balance)\n",
    "        elif amount > 0 :\n",
    "            self.balance -= amount\n",
    "            print(\"Withdrawal\", amount, \"New balance is\", self.balance)\n",
    "        else :\n",
    "            print(\"Withdrawal amount must be positive.\")\n",
    "        \n",
    "account = BankAccount(\"12345678\", 1000)\n",
    "account.deposit(500)\n",
    "account.withdraw(200)\n",
    "account.withdraw(1500)\n"
   ]
  },
  {
   "cell_type": "code",
   "execution_count": 6,
   "metadata": {},
   "outputs": [
    {
     "name": "stdout",
     "output_type": "stream",
     "text": [
      "New connection added successfully. \n",
      "Active Connections : 1\n"
     ]
    }
   ],
   "source": [
    "# Class Methods\n",
    "\n",
    "# 1. Define a class Database with a class variable connections. Implement a class method add_connection to manage the count of active connections.\n",
    "\n",
    "class Database :\n",
    "\n",
    "    connections = 0\n",
    "\n",
    "    @classmethod\n",
    "    def addConnection(cls) :\n",
    "        cls.connections += 1\n",
    "        print(\"New connection added successfully. \\nActive Connections :\", cls.connections)\n",
    "\n",
    "Database.addConnection()\n"
   ]
  },
  {
   "cell_type": "code",
   "execution_count": 7,
   "metadata": {},
   "outputs": [
    {
     "name": "stdout",
     "output_type": "stream",
     "text": [
      "Pizza(name=\"Margherita\", ingredients=['Cheese', 'Tomato'])\n",
      "Pizza(name=\"Pepperoni\", ingredients=['Cheese', 'Pepperoni'])\n"
     ]
    }
   ],
   "source": [
    "# 2. Create a class Pizza with class method create_margherita and create_pepperoni to create specific types of pizzas with predefined ingredients.\n",
    "\n",
    "class Pizza :\n",
    "    def __init__(self, name, ingredients) :\n",
    "        self.name = name\n",
    "        self.ingredients = ingredients\n",
    "\n",
    "    @classmethod\n",
    "    def createMargherita(cls) :\n",
    "        return cls(\"Margherita\", [\"Cheese\", \"Tomato\"])\n",
    "\n",
    "    @classmethod\n",
    "    def createPepperoni(cls) :\n",
    "        return cls(\"Pepperoni\", [\"Cheese\", \"Pepperoni\"])\n",
    "\n",
    "    def __str__(self) :\n",
    "        return f\"Pizza(name=\\\"{self.name}\\\", ingredients={self.ingredients})\"\n",
    "\n",
    "margherite = Pizza.createMargherita()\n",
    "pepperoni = Pizza.createPepperoni()\n",
    "\n",
    "print(margherite)\n",
    "print(pepperoni)\n"
   ]
  },
  {
   "cell_type": "code",
   "execution_count": 10,
   "metadata": {},
   "outputs": [
    {
     "name": "stdout",
     "output_type": "stream",
     "text": [
      "5 books added successfully. \n",
      "Total Books Available : 5\n",
      "Total books in the library : 5\n"
     ]
    }
   ],
   "source": [
    "# 3. Implement a class Library with a class variable total_books and class methods add_book and get_total_books to manage the library's book count.\n",
    "\n",
    "class Library :\n",
    "\n",
    "    totalBooks = 0\n",
    "\n",
    "    @classmethod\n",
    "    def addBook(cls, count) :\n",
    "        if count > 0 :\n",
    "            cls.totalBooks += count\n",
    "            print(count, \"books added successfully. \\nTotal Books Available :\", cls.totalBooks)\n",
    "        else :\n",
    "            print(\"The number of books to add must be positive.\")\n",
    "    \n",
    "    @classmethod\n",
    "    def getTotalBooks(cls) :\n",
    "        print(\"Total books in the library :\", cls.totalBooks)\n",
    "\n",
    "Library.addBook(5)\n",
    "Library.getTotalBooks()\n"
   ]
  },
  {
   "cell_type": "code",
   "execution_count": 11,
   "metadata": {},
   "outputs": [
    {
     "name": "stdout",
     "output_type": "stream",
     "text": [
      "Addition : 15\n",
      "Subtraction : 5\n",
      "Multiplication : 50\n",
      "Division : 2.0\n"
     ]
    }
   ],
   "source": [
    "# Static Methods\n",
    "\n",
    "# 1. Define a class Calculator with static methods add, subtract, multiply, and divide to perform basic arithmetic operations.\n",
    "\n",
    "class Calculator :\n",
    "    @staticmethod\n",
    "    def add(a, b) :\n",
    "        return a + b\n",
    "    \n",
    "    @staticmethod\n",
    "    def subtract(a, b) :\n",
    "        return a - b\n",
    "    \n",
    "    @staticmethod\n",
    "    def multiply(a, b) :\n",
    "        return a * b\n",
    "    \n",
    "    @ staticmethod\n",
    "    def divide(a, b) :\n",
    "        if b != 0 :\n",
    "            return a / b\n",
    "        else :\n",
    "            return \"Error : Division by zero is invalid!\"\n",
    "        \n",
    "a = int(input(\"Enter a :\"))\n",
    "b = int(input(\"Enter b :\"))\n",
    "\n",
    "print(\"Addition :\", Calculator.add(a, b))\n",
    "print(\"Subtraction :\", Calculator.subtract(a, b))\n",
    "print(\"Multiplication :\", Calculator.multiply(a, b))\n",
    "print(\"Division :\", Calculator.divide(a, b))\n"
   ]
  },
  {
   "cell_type": "code",
   "execution_count": 13,
   "metadata": {},
   "outputs": [
    {
     "name": "stdout",
     "output_type": "stream",
     "text": [
      "Reversed string: racecar\n",
      "Is 'racecar' a palindrome? True\n"
     ]
    }
   ],
   "source": [
    "# 2. Create a class StringUtils with static methods reverse_string and is_palindrome to manipulate and analyze strings.\n",
    "\n",
    "class StringUtils:\n",
    "    @staticmethod\n",
    "    def reverse_string(s):\n",
    "        reversed_s = s[::-1]\n",
    "        print(f\"Reversed string: {reversed_s}\")\n",
    "        return reversed_s\n",
    "\n",
    "    @staticmethod\n",
    "    def is_palindrome(s):\n",
    "        reversed_s = s[::-1]\n",
    "        is_palindrome = s == reversed_s\n",
    "        print(f\"Is '{s}' a palindrome? {is_palindrome}\")\n",
    "\n",
    "string = \"racecar\"\n",
    "StringUtils.reverse_string(string)  \n",
    "StringUtils.is_palindrome(string)    \n"
   ]
  },
  {
   "cell_type": "code",
   "execution_count": 16,
   "metadata": {},
   "outputs": [
    {
     "name": "stdout",
     "output_type": "stream",
     "text": [
      "Is 2020 a Leap Year ? True\n",
      "Number of days in months : 29\n"
     ]
    }
   ],
   "source": [
    "# 3. Implement a class DateUtils with static methods is_leap_year and days_in_month to perform date-related calculations.\n",
    "\n",
    "class DateUtils :\n",
    "    @staticmethod\n",
    "    def isLeapYear(year) :\n",
    "        if (year % 4 == 0 and year % 100 != 0) or (year % 400 == 0) :\n",
    "            return True\n",
    "        else :\n",
    "            return False\n",
    "    \n",
    "    @staticmethod\n",
    "    def daysInMonth(year, month) :\n",
    "        month_days = [31, 29 if DateUtils.isLeapYear(year) else 28, 31, 30, 31, 30, \n",
    "                      31, 31, 30, 31, 30, 31]\n",
    "        if 1 <= month <= 12:\n",
    "            return month_days[month - 1]\n",
    "        else:\n",
    "            return \"Invalid month\"\n",
    "        \n",
    "\n",
    "year = int(input(\"Enter year :\"))\n",
    "month = int(input(\"Enter month :\"))\n",
    "\n",
    "isLeap = DateUtils.isLeapYear(year)\n",
    "days = DateUtils.daysInMonth(year, month)\n",
    "\n",
    "print(\"Is\", year, \"a Leap Year ?\", isLeap)\n",
    "print(\"Number of days in months :\", days)\n"
   ]
  }
 ],
 "metadata": {
  "kernelspec": {
   "display_name": "Python 3",
   "language": "python",
   "name": "python3"
  },
  "language_info": {
   "codemirror_mode": {
    "name": "ipython",
    "version": 3
   },
   "file_extension": ".py",
   "mimetype": "text/x-python",
   "name": "python",
   "nbconvert_exporter": "python",
   "pygments_lexer": "ipython3",
   "version": "3.12.7"
  }
 },
 "nbformat": 4,
 "nbformat_minor": 2
}
