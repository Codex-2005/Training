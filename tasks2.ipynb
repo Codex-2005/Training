{
 "cells": [
  {
   "cell_type": "code",
   "execution_count": 1,
   "metadata": {},
   "outputs": [
    {
     "name": "stdout",
     "output_type": "stream",
     "text": [
      "name: \"Alice\", age: 20, grades: [90, 85, 88]\n"
     ]
    }
   ],
   "source": [
    "class Student:\n",
    "    def __init__(self, name: str, age: int, grades: list):\n",
    "        self.name = name\n",
    "        self.age = age\n",
    "        self.grades = grades\n",
    "\n",
    "    def __repr__(self):\n",
    "        return f'name: \"{self.name}\", age: {self.age}, grades: {self.grades}'\n",
    "\n",
    "\n",
    "student = Student(name=\"Alice\", age=20, grades=[90, 85, 88])\n",
    "print(student) \n"
   ]
  },
  {
   "cell_type": "code",
   "execution_count": 3,
   "metadata": {},
   "outputs": [
    {
     "name": "stdout",
     "output_type": "stream",
     "text": [
      "[Employee(name=\"John Doe\", position=\"Manager\", salary=75000.0), Employee(name=\"Jane Smith\", position=\"Engineer\", salary=80000.0)]\n"
     ]
    }
   ],
   "source": [
    "import csv\n",
    "\n",
    "class Employee:\n",
    "    def __init__(self, name: str, position: str, salary: float):\n",
    "        self.name = name\n",
    "        self.position = position\n",
    "        self.salary = salary\n",
    "\n",
    "    def __repr__(self):\n",
    "        return f'Employee(name=\"{self.name}\", position=\"{self.position}\", salary={self.salary})'\n",
    "\n",
    "def read_employees_from_csv(file_path: str):\n",
    "    employees = []\n",
    "    with open(file_path, mode='r', newline='', encoding='utf-8') as file:\n",
    "        reader = csv.reader(file)\n",
    "        for row in reader:\n",
    "            if row: \n",
    "                name = row[0]\n",
    "                position = row[1]\n",
    "                salary = float(row[2])  \n",
    "                employees.append(Employee(name, position, salary))\n",
    "    return employees\n",
    "\n",
    "\n",
    "employees = read_employees_from_csv(\"employe.csv\")\n",
    "print(employees)"
   ]
  },
  {
   "cell_type": "code",
   "execution_count": 7,
   "metadata": {},
   "outputs": [
    {
     "name": "stdout",
     "output_type": "stream",
     "text": [
      "BankAccount(account_number=\"12345678\", balance=1000.00)\n",
      "You've deposited $500.00. Your new balance is $1500.00.\n",
      "You've withdrawn $200.00. Your new balance is $1300.00.\n",
      "Oops! You don't have enough balance to withdraw that amount.\n",
      "Your current balance is $1300.00.\n"
     ]
    }
   ],
   "source": [
    "class BankAccount:\n",
    "    def __init__(self, account_number, initial_balance):\n",
    "        self.account_number = account_number\n",
    "        self.balance = initial_balance\n",
    "\n",
    "    def deposit(self, amount):\n",
    "        if amount <= 0:\n",
    "            print(\"You need to deposit a positive amount.\")\n",
    "        else:\n",
    "            self.balance += amount\n",
    "            print(f\"You've deposited ${amount:.2f}. Your new balance is ${self.balance:.2f}.\")\n",
    "\n",
    "    def withdraw(self, amount):\n",
    "        if amount <= 0:\n",
    "            print(\"You need to withdraw a positive amount.\")\n",
    "        elif amount > self.balance:\n",
    "            print(\"Oops! You don't have enough balance to withdraw that amount.\")\n",
    "        else:\n",
    "            self.balance -= amount\n",
    "            print(f\"You've withdrawn ${amount:.2f}. Your new balance is ${self.balance:.2f}.\")\n",
    "\n",
    "    def check_balance(self):\n",
    "        print(f\"Your current balance is ${self.balance:.2f}.\")\n",
    "\n",
    "    def __repr__(self):\n",
    "        return f'BankAccount(account_number=\"{self.account_number}\", balance={self.balance:.2f})'\n",
    "\n",
    "my_account = BankAccount(\"12345678\", 1000)\n",
    "print(my_account)\n",
    "my_account.deposit(500)\n",
    "my_account.withdraw(200)\n",
    "my_account.withdraw(1500)\n",
    "my_account.check_balance()\n"
   ]
  },
  {
   "cell_type": "code",
   "execution_count": 5,
   "metadata": {},
   "outputs": [
    {
     "name": "stdout",
     "output_type": "stream",
     "text": [
      "Area: 15, Perimeter: 16\n"
     ]
    }
   ],
   "source": [
    "class Rectangle:\n",
    "    def __init__(self, length, width):\n",
    "        self.length = length\n",
    "        self.width = width\n",
    "\n",
    "    def area(self):\n",
    "        return self.length * self.width\n",
    "\n",
    "    def perimeter(self):\n",
    "        return 2 * (self.length + self.width)\n",
    "\n",
    "length = 5\n",
    "width = 3\n",
    "rectangle = Rectangle(length, width)\n",
    "\n",
    "print(f\"Area: {rectangle.area()}, Perimeter: {rectangle.perimeter()}\")\n"
   ]
  },
  {
   "cell_type": "code",
   "execution_count": 8,
   "metadata": {},
   "outputs": [
    {
     "name": "stdout",
     "output_type": "stream",
     "text": [
      "make: \"Toyota\", model: \"Camry\", year: 2020\n"
     ]
    }
   ],
   "source": [
    "class Car:\n",
    "    def __init__(self, make, model, year):\n",
    "        self.make = make\n",
    "        self.model = model\n",
    "        self.year = year\n",
    "\n",
    "    def __str__(self):\n",
    "        return f'make: \"{self.make}\", model: \"{self.model}\", year: {self.year}'\n",
    "\n",
    "\n",
    "my_car = Car(make=\"Toyota\", model=\"Camry\", year=2020)\n",
    "print(my_car)\n"
   ]
  },
  {
   "cell_type": "code",
   "execution_count": 9,
   "metadata": {},
   "outputs": [
    {
     "name": "stdout",
     "output_type": "stream",
     "text": [
      "Cus(name: \"John Doe\", email: \"john.doe@example.com\")\n",
      "Cus(name: \"John Doe\", email: \"john.new@example.com\")\n"
     ]
    }
   ],
   "source": [
    "import json\n",
    "\n",
    "class C:\n",
    "    def __init__(self, n, e):\n",
    "        self.n = n  \n",
    "        self.e = e  \n",
    "\n",
    "    def __str__(self):\n",
    "        return f'Cus(name: \"{self.n}\", email: \"{self.e}\")'\n",
    "\n",
    "    def new_mail(self, m):\n",
    "        self.e = m  \n",
    "\n",
    "def load_cus_data(fp):\n",
    "    with open(fp, 'r') as f:\n",
    "        data = json.load(f)\n",
    "        return C(n=data['name'], e=data['email'])\n",
    "\n",
    "\n",
    "cus = load_cus_data('cus.json')\n",
    "print(cus)\n",
    "\n",
    "cus.new_mail('john.new@example.com')\n",
    "print(cus)\n"
   ]
  },
  {
   "cell_type": "code",
   "execution_count": 10,
   "metadata": {},
   "outputs": [
    {
     "name": "stdout",
     "output_type": "stream",
     "text": [
      "Name: John Doe, Age: 30, Address: 123 Main St\n"
     ]
    }
   ],
   "source": [
    "class Person:\n",
    "    def __init__(self, name, age, address):\n",
    "        self.name = name\n",
    "        self.age = age\n",
    "        self.address = address\n",
    "\n",
    "    def __str__(self):\n",
    "        return f\"Name: {self.name}, Age: {self.age}, Address: {self.address}\"\n",
    "\n",
    "person = Person(\"John Doe\", 30, \"123 Main St\")\n",
    "print(person)\n"
   ]
  },
  {
   "cell_type": "code",
   "execution_count": 11,
   "metadata": {},
   "outputs": [
    {
     "name": "stdout",
     "output_type": "stream",
     "text": [
      "Radius: 4, Area: 50.27, Circumference: 25.13\n"
     ]
    }
   ],
   "source": [
    "import math\n",
    "\n",
    "class Circle:\n",
    "    def __init__(self, radius):\n",
    "        self.radius = radius\n",
    "\n",
    "    def area(self):\n",
    "        return math.pi * (self.radius ** 2)\n",
    "\n",
    "    def circumference(self):\n",
    "        return 2 * math.pi * self.radius\n",
    "\n",
    "radius = 4 \n",
    "circle = Circle(radius)\n",
    "\n",
    "print(f\"Radius: {circle.radius}, Area: {circle.area():.2f}, Circumference: {circle.circumference():.2f}\")\n"
   ]
  },
  {
   "cell_type": "code",
   "execution_count": 13,
   "metadata": {},
   "outputs": [
    {
     "name": "stdout",
     "output_type": "stream",
     "text": [
      "Product: Laptop, Price: 1000.0, Quantity: 5, Total Value: 5000.0\n",
      "Product: Phone, Price: 500.0, Quantity: 10, Total Value: 5000.0\n",
      "Product: Tablet, Price: 300.0, Quantity: 7, Total Value: 2100.0\n"
     ]
    }
   ],
   "source": [
    "import csv\n",
    "\n",
    "class Product:\n",
    "    def __init__(self, name, price, quantity):\n",
    "        self.name = name\n",
    "        self.price = price\n",
    "        self.quantity = quantity\n",
    "\n",
    "    def total_value(self):\n",
    "        return self.price * self.quantity\n",
    "\n",
    "    def display(self):\n",
    "        return f\"Product: {self.name}, Price: {self.price}, Quantity: {self.quantity}, Total Value: {self.total_value()}\"\n",
    "\n",
    "products = []\n",
    "\n",
    "with open('products.csv', mode='r') as file:\n",
    "    reader = csv.reader(file)\n",
    "    for i in reader:\n",
    "        name, price, quantity = i\n",
    "        products.append(Product(name, float(price), int(quantity)))\n",
    "\n",
    "for product in products:\n",
    "    print(product.display())\n"
   ]
  },
  {
   "cell_type": "code",
   "execution_count": 14,
   "metadata": {},
   "outputs": [
    {
     "name": "stdout",
     "output_type": "stream",
     "text": [
      "Title: Inception, Director: Christopher Nolan, Rating: 8.8\n"
     ]
    }
   ],
   "source": [
    "class Movie:\n",
    "    def __init__(self, title, director, rating):\n",
    "        self.title = title\n",
    "        self.director = director\n",
    "        self.rating = rating\n",
    "\n",
    "    def display(self):\n",
    "        return f\"Title: {self.title}, Director: {self.director}, Rating: {self.rating}\"\n",
    "\n",
    "title = \"Inception\"\n",
    "director = \"Christopher Nolan\"\n",
    "rating = 8.8\n",
    "\n",
    "movie = Movie(title, director, rating)\n",
    "print(movie.display())\n"
   ]
  },
  {
   "cell_type": "code",
   "execution_count": 15,
   "metadata": {},
   "outputs": [
    {
     "name": "stdout",
     "output_type": "stream",
     "text": [
      "Circle - Area: 50.27, Perimeter: 25.13\n",
      "Square - Area: 25.00, Perimeter: 20.00\n"
     ]
    }
   ],
   "source": [
    "import math\n",
    "\n",
    "class Shape:\n",
    "    def area(self):\n",
    "        raise NotImplementedError(\"Subclasses must implement this method.\")\n",
    "    \n",
    "    def perimeter(self):\n",
    "        raise NotImplementedError(\"Subclasses must implement this method.\")\n",
    "\n",
    "class Circle(Shape):\n",
    "    def __init__(self, radius):\n",
    "        self.radius = radius\n",
    "\n",
    "    def area(self):\n",
    "        return math.pi * (self.radius ** 2)\n",
    "\n",
    "    def perimeter(self):\n",
    "        return 2 * math.pi * self.radius\n",
    "\n",
    "class Square(Shape):\n",
    "    def __init__(self, side):\n",
    "        self.side = side\n",
    "\n",
    "    def area(self):\n",
    "        return self.side ** 2\n",
    "\n",
    "    def perimeter(self):\n",
    "        return 4 * self.side\n",
    "\n",
    "circle = Circle(radius=4)\n",
    "square = Square(side=5)\n",
    "\n",
    "print(f\"Circle - Area: {circle.area():.2f}, Perimeter: {circle.perimeter():.2f}\")\n",
    "print(f\"Square - Area: {square.area():.2f}, Perimeter: {square.perimeter():.2f}\")\n"
   ]
  },
  {
   "cell_type": "code",
   "execution_count": 16,
   "metadata": {},
   "outputs": [
    {
     "name": "stdout",
     "output_type": "stream",
     "text": [
      "Manager - Name: John Doe, Department: Sales\n",
      "Engineer - Name: Jane Smith, Field: Software\n"
     ]
    }
   ],
   "source": [
    "class Employee:\n",
    "    def __init__(self, name):\n",
    "        self.name = name\n",
    "\n",
    "    def dis(self):\n",
    "        return f\"Name: {self.name}\"\n",
    "\n",
    "class Manager(Employee):\n",
    "    def __init__(self, name, department):\n",
    "        super().__init__(name)\n",
    "        self.department = department\n",
    "\n",
    "    def dis(self):\n",
    "        return f\"Manager - Name: {self.name}, Department: {self.department}\"\n",
    "\n",
    "class Engineer(Employee):\n",
    "    def __init__(self, name, field):\n",
    "        super().__init__(name)\n",
    "        self.field = field\n",
    "\n",
    "    def dis(self):\n",
    "        return f\"Engineer - Name: {self.name}, Field: {self.field}\"\n",
    "\n",
    "manager = Manager(name=\"John Doe\", department=\"Sales\")\n",
    "engineer = Engineer(name=\"Jane Smith\", field=\"Software\")\n",
    "\n",
    "print(manager.dis())\n",
    "print(engineer.dis())\n"
   ]
  },
  {
   "cell_type": "code",
   "execution_count": 17,
   "metadata": {},
   "outputs": [
    {
     "name": "stdout",
     "output_type": "stream",
     "text": [
      "Triangle - Area: 7.5, Perimeter: 15\n",
      "Rectangle - Area: 8, Perimeter: 12\n"
     ]
    }
   ],
   "source": [
    "class Shape:\n",
    "    def area(self):\n",
    "        raise NotImplementedError(\"Subclasses must implement this method.\")\n",
    "    \n",
    "    def perimeter(self):\n",
    "        raise NotImplementedError(\"Subclasses must implement this method.\")\n",
    "\n",
    "class Triangle(Shape):\n",
    "    def __init__(self, base, height):\n",
    "        self.base = base\n",
    "        self.height = height\n",
    "\n",
    "    def area(self):\n",
    "        return 0.5 * self.base * self.height\n",
    "\n",
    "    def perimeter(self):\n",
    "        # For simplicity, assuming an equilateral triangle\n",
    "        return 3 * self.base\n",
    "\n",
    "class Rectangle(Shape):\n",
    "    def __init__(self, length, width):\n",
    "        self.length = length\n",
    "        self.width = width\n",
    "\n",
    "    def area(self):\n",
    "        return self.length * self.width\n",
    "\n",
    "    def perimeter(self):\n",
    "        return 2 * (self.length + self.width)\n",
    "\n",
    "triangle = Triangle(base=5, height=3)\n",
    "rectangle = Rectangle(length=4, width=2)\n",
    "\n",
    "print(f\"Triangle - Area: {triangle.area()}, Perimeter: {triangle.perimeter()}\")\n",
    "print(f\"Rectangle - Area: {rectangle.area()}, Perimeter: {rectangle.perimeter()}\")\n"
   ]
  },
  {
   "cell_type": "code",
   "execution_count": 19,
   "metadata": {},
   "outputs": [
    {
     "name": "stdout",
     "output_type": "stream",
     "text": [
      "Bird: Parrot, Can Fly: True\n",
      "Fish: Goldfish, Can Swim: True\n"
     ]
    }
   ],
   "source": [
    "class Animal:\n",
    "    def __init__(self, name):\n",
    "        self.name = name\n",
    "\n",
    "class Bird(Animal):\n",
    "    def __init__(self, name, can_fly):\n",
    "        super().__init__(name)\n",
    "        self.can_fly = can_fly\n",
    "\n",
    "    def display(self):\n",
    "        return f\"Bird: {self.name}, Can Fly: {self.can_fly}\"\n",
    "\n",
    "class Fish(Animal):\n",
    "    def __init__(self, name, can_swim):\n",
    "        super().__init__(name)\n",
    "        self.can_swim = can_swim\n",
    "\n",
    "    def display(self):\n",
    "        return f\"Fish: {self.name}, Can Swim: {self.can_swim}\"\n",
    "\n",
    "bird = Bird(name=\"Parrot\", can_fly=True)\n",
    "fish = Fish(name=\"Goldfish\", can_swim=True)\n",
    "\n",
    "print(bird.display())\n",
    "print(fish.display())\n"
   ]
  },
  {
   "cell_type": "code",
   "execution_count": 20,
   "metadata": {},
   "outputs": [
    {
     "name": "stdout",
     "output_type": "stream",
     "text": [
      "Product: Laptop, Price: 1000, Quantity: 5, Total Value: 5000\n"
     ]
    }
   ],
   "source": [
    "import json\n",
    "\n",
    "class Product:\n",
    "    def __init__(self, name, price, quantity):\n",
    "        self._name = name\n",
    "        self._price = price\n",
    "        self._quantity = quantity\n",
    "\n",
    "    def get_name(self):\n",
    "        return self._name\n",
    "\n",
    "    def get_price(self):\n",
    "        return self._price\n",
    "\n",
    "    def get_quantity(self):\n",
    "        return self._quantity\n",
    "\n",
    "    def total_value(self):\n",
    "        return self._price * self._quantity\n",
    "\n",
    "    def dis(self):\n",
    "        return f\"Product: {self.get_name()}, Price: {self.get_price()}, Quantity: {self.get_quantity()}, Total Value: {self.total_value()}\"\n",
    "\n",
    "with open('product.json', 'r') as file:\n",
    "    data = json.load(file)\n",
    "\n",
    "product = Product(name=data['name'], price=data['price'], quantity=data['quantity'])\n",
    "\n",
    "print(product.dis())\n"
   ]
  },
  {
   "cell_type": "code",
   "execution_count": 21,
   "metadata": {},
   "outputs": [
    {
     "name": "stdout",
     "output_type": "stream",
     "text": [
      "Car - Make: Toyota, Model: Camry\n",
      "Bike - Make: Yamaha, Model: MT-07\n",
      "Truck - Make: Ford, Model: F-150, Capacity: 3 tons\n"
     ]
    }
   ],
   "source": [
    "class Vehicle:\n",
    "    def __init__(self, make, model):\n",
    "        self.make = make\n",
    "        self.model = model\n",
    "\n",
    "    def dis(self):\n",
    "        return f\"{self.__class__.__name__} - Make: {self.make}, Model: {self.model}\"\n",
    "\n",
    "class Car(Vehicle):\n",
    "    def __init__(self, make, model):\n",
    "        super().__init__(make, model)\n",
    "\n",
    "class Bike(Vehicle):\n",
    "    def __init__(self, make, model):\n",
    "        super().__init__(make, model)\n",
    "\n",
    "class Truck(Vehicle):\n",
    "    def __init__(self, make, model, capacity):\n",
    "        super().__init__(make, model)\n",
    "        self.capacity = capacity\n",
    "\n",
    "    def dis(self):\n",
    "        return f\"{self.__class__.__name__} - Make: {self.make}, Model: {self.model}, Capacity: {self.capacity} tons\"\n",
    "\n",
    "car = Car(make=\"Toyota\", model=\"Camry\")\n",
    "bike = Bike(make=\"Yamaha\", model=\"MT-07\")\n",
    "truck = Truck(make=\"Ford\", model=\"F-150\", capacity=3)\n",
    "\n",
    "print(car.dis())\n",
    "print(bike.dis())\n",
    "print(truck.dis())\n"
   ]
  },
  {
   "cell_type": "code",
   "execution_count": 22,
   "metadata": {},
   "outputs": [
    {
     "name": "stdout",
     "output_type": "stream",
     "text": [
      "username: \"john_doe\", password: \"******\"\n"
     ]
    }
   ],
   "source": [
    "class User:\n",
    "    def __init__(self, username, password):\n",
    "        self.username = username\n",
    "        self.__password = password \n",
    "\n",
    "    def get_username(self):\n",
    "        return self.username\n",
    "\n",
    "    def set_password(self, new_password):\n",
    "        self.__password = new_password\n",
    "\n",
    "    def check_password(self, password):\n",
    "        return self.__password == password\n",
    "\n",
    "    def dis(self):\n",
    "        return f'username: \"{self.username}\", password: \"******\"'  \n",
    "\n",
    "user = User(username=\"john_doe\", password=\"secure123\")\n",
    "print(user.dis()) \n"
   ]
  },
  {
   "cell_type": "code",
   "execution_count": 23,
   "metadata": {},
   "outputs": [
    {
     "name": "stdout",
     "output_type": "stream",
     "text": [
      "name: \"City Library\", address: \"123 Main St\", books: ['Book2']\n"
     ]
    }
   ],
   "source": [
    "class Library:\n",
    "    def __init__(self, name, address):\n",
    "        self.name = name\n",
    "        self.address = address\n",
    "        self.books = []\n",
    "\n",
    "    def add_book(self, book):\n",
    "        self.books.append(book)\n",
    "\n",
    "    def remove_book(self, book):\n",
    "        if book in self.books:\n",
    "            self.books.remove(book)\n",
    "        else:\n",
    "            print(f\"Book '{book}' not found in the library.\")\n",
    "\n",
    "    def dis(self):\n",
    "        return f'name: \"{self.name}\", address: \"{self.address}\", books: {self.books}'\n",
    "\n",
    "library = Library(name=\"City Library\", address=\"123 Main St\")\n",
    "library.add_book(\"Book1\")\n",
    "library.add_book(\"Book2\")\n",
    "library.remove_book(\"Book1\")\n",
    "\n",
    "print(library.dis())\n"
   ]
  },
  {
   "cell_type": "code",
   "execution_count": 24,
   "metadata": {},
   "outputs": [
    {
     "name": "stdout",
     "output_type": "stream",
     "text": [
      "address: \"456 Elm St\", num_rooms: 4, price: 350000\n"
     ]
    }
   ],
   "source": [
    "class House:\n",
    "    def __init__(self, address, num_rooms, price):\n",
    "        self.address = address\n",
    "        self.num_rooms = num_rooms\n",
    "        self.price = price\n",
    "\n",
    "    def dis(self):\n",
    "        return f'address: \"{self.address}\", num_rooms: {self.num_rooms}, price: {self.price}'\n",
    "\n",
    "house = House(address=\"456 Elm St\", num_rooms=4, price=350000)\n",
    "print(house.dis())\n"
   ]
  },
  {
   "cell_type": "code",
   "execution_count": 25,
   "metadata": {},
   "outputs": [
    {
     "name": "stdout",
     "output_type": "stream",
     "text": [
      "title: \"Python 101\", author: \"John Doe\", price: 26.99\n"
     ]
    }
   ],
   "source": [
    "class Book:\n",
    "    def __init__(self, title, author, price):\n",
    "        self.title = title\n",
    "        self.author = author\n",
    "        self.price = price\n",
    "\n",
    "    def discount(self, discount_rate):\n",
    "        self.price -= self.price * discount_rate\n",
    "\n",
    "    def dis(self):\n",
    "        return f'title: \"{self.title}\", author: \"{self.author}\", price: {self.price:.2f}'\n",
    "\n",
    "\n",
    "book = Book(title=\"Python 101\", author=\"John Doe\", price=29.99)\n",
    "book.discount(0.1)\n",
    "print(book.dis())\n"
   ]
  },
  {
   "cell_type": "code",
   "execution_count": 26,
   "metadata": {},
   "outputs": [
    {
     "name": "stdout",
     "output_type": "stream",
     "text": [
      "name: \"Sushi Place\", cuisine_type: \"Japanese\", rating: 4.8\n"
     ]
    }
   ],
   "source": [
    "class Restaurant:\n",
    "    def __init__(self, name, cuisine_type, rating):\n",
    "        self.name = name\n",
    "        self.cuisine_type = cuisine_type\n",
    "        self.rating = rating\n",
    "\n",
    "    def update_rating(self, new_rating):\n",
    "        self.rating = new_rating\n",
    "\n",
    "    def dis(self):\n",
    "        return f'name: \"{self.name}\", cuisine_type: \"{self.cuisine_type}\", rating: {self.rating:.1f}'\n",
    "\n",
    "\n",
    "restaurant = Restaurant(name=\"Sushi Place\", cuisine_type=\"Japanese\", rating=4.5)\n",
    "restaurant.update_rating(4.8)  \n",
    "print(restaurant.dis())\n"
   ]
  },
  {
   "cell_type": "code",
   "execution_count": 27,
   "metadata": {},
   "outputs": [
    {
     "name": "stdout",
     "output_type": "stream",
     "text": [
      "name: \"Greenwood High\", students: 350, total_students: 350\n"
     ]
    }
   ],
   "source": [
    "class School:\n",
    "    total_students = 0\n",
    "\n",
    "    def __init__(self, name, students):\n",
    "        self.name = name\n",
    "        self.students = students\n",
    "        School.total_students += students\n",
    "\n",
    "    def enroll_students(self, count):\n",
    "        self.students += count\n",
    "        School.total_students += count\n",
    "\n",
    "    def dis(self):\n",
    "        return f'name: \"{self.name}\", students: {self.students}, total_students: {School.total_students}'\n",
    "\n",
    "school = School(name=\"Greenwood High\", students=300)\n",
    "school.enroll_students(50)\n",
    "print(school.dis())\n"
   ]
  },
  {
   "cell_type": "code",
   "execution_count": 28,
   "metadata": {},
   "outputs": [
    {
     "name": "stdout",
     "output_type": "stream",
     "text": [
      "name: \"TechCorp\", num_employees: 220, industry: \"Technology\"\n"
     ]
    }
   ],
   "source": [
    "class Company:\n",
    "    industry = \"Technology\"\n",
    "\n",
    "    def __init__(self, name, num_employees):\n",
    "        self.name = name\n",
    "        self.num_employees = num_employees\n",
    "\n",
    "    def update_employees(self, new_num):\n",
    "        self.num_employees = new_num\n",
    "\n",
    "    def dis(self):\n",
    "        return f'name: \"{self.name}\", num_employees: {self.num_employees}, industry: \"{Company.industry}\"'\n",
    "\n",
    "company = Company(name=\"TechCorp\", num_employees=200)\n",
    "company.update_employees(220)\n",
    "print(company.dis())\n"
   ]
  },
  {
   "cell_type": "code",
   "execution_count": 29,
   "metadata": {},
   "outputs": [
    {
     "name": "stdout",
     "output_type": "stream",
     "text": [
      "name: \"Alice\", salary: 70000, programming_language: \"Python\"\n"
     ]
    }
   ],
   "source": [
    "class Employee:\n",
    "    def __init__(self, name, salary):\n",
    "        self.name = name\n",
    "        self.salary = salary\n",
    "\n",
    "class Developer(Employee):\n",
    "    def __init__(self, name, salary, programming_language):\n",
    "        super().__init__(name, salary)\n",
    "        self.programming_language = programming_language\n",
    "\n",
    "    def dis(self):\n",
    "        return f'name: \"{self.name}\", salary: {self.salary}, programming_language: \"{self.programming_language}\"'\n",
    "\n",
    "developer = Developer(name=\"Alice\", salary=70000, programming_language=\"Python\")\n",
    "print(developer.dis())\n"
   ]
  },
  {
   "cell_type": "code",
   "execution_count": 30,
   "metadata": {},
   "outputs": [
    {
     "name": "stdout",
     "output_type": "stream",
     "text": [
      "Appliance is turned on\n",
      "Washing Machine LG is turned on\n"
     ]
    }
   ],
   "source": [
    "class Appliance:\n",
    "    def turn_on(self):\n",
    "        return \"Appliance is turned on\"\n",
    "\n",
    "class WashingMachine(Appliance):\n",
    "    def __init__(self, model):\n",
    "        self.model = model\n",
    "\n",
    "    def turn_on(self):\n",
    "        return f\"Washing Machine {self.model} is turned on\"\n",
    "\n",
    "appliance = Appliance()\n",
    "washing_machine = WashingMachine(model=\"LG\")\n",
    "\n",
    "print(appliance.turn_on())\n",
    "print(washing_machine.turn_on())\n"
   ]
  },
  {
   "cell_type": "code",
   "execution_count": 32,
   "metadata": {},
   "outputs": [
    {
     "name": "stdout",
     "output_type": "stream",
     "text": [
      "username: \"user1\", password: \"newpass123\"\n"
     ]
    }
   ],
   "source": [
    "class PrivateData:\n",
    "    def __init__(self, username, password):\n",
    "        self.__username = username\n",
    "        self.__password = password\n",
    "\n",
    "    def get_username(self):\n",
    "        return self.__username\n",
    "\n",
    "    def set_password(self, new_password):\n",
    "        self.__password = new_password\n",
    "\n",
    "    def get_password(self):\n",
    "        return self.__password\n",
    "\n",
    "    def dis(self):\n",
    "        return f'username: \"{self.get_username()}\", password: \"{self.get_password()}\"'\n",
    "\n",
    "data = PrivateData(username=\"user1\", password=\"pass123\")\n",
    "data.set_password(\"newpass123\")\n",
    "print(data.dis())\n"
   ]
  },
  {
   "cell_type": "code",
   "execution_count": 33,
   "metadata": {},
   "outputs": [
    {
     "name": "stdout",
     "output_type": "stream",
     "text": [
      "account_number: \"987654321\", balance: 4500\n"
     ]
    }
   ],
   "source": [
    "class Account:\n",
    "    def __init__(self, account_number, balance):\n",
    "        self.__account_number = account_number\n",
    "        self.__balance = balance\n",
    "\n",
    "    def deposit(self, amount):\n",
    "        self.__balance += amount\n",
    "\n",
    "    def withdraw(self, amount):\n",
    "        if amount <= self.__balance:\n",
    "            self.__balance -= amount\n",
    "        else:\n",
    "            print(\"Insufficient funds\")\n",
    "\n",
    "    def get_balance(self):\n",
    "        return self.__balance\n",
    "\n",
    "    def dis(self):\n",
    "        return f'account_number: \"{self.__account_number}\", balance: {self.get_balance()}'\n",
    "\n",
    "account = Account(account_number=\"987654321\", balance=5000)\n",
    "account.deposit(1500)\n",
    "account.withdraw(2000)\n",
    "print(account.dis())\n"
   ]
  },
  {
   "cell_type": "code",
   "execution_count": 34,
   "metadata": {},
   "outputs": [
    {
     "name": "stdout",
     "output_type": "stream",
     "text": [
      "Toyota is driving\n",
      "Yamaha is riding\n"
     ]
    }
   ],
   "source": [
    "class Car:\n",
    "    def __init__(self, model):\n",
    "        self.model = model\n",
    "\n",
    "    def move(self):\n",
    "        return f\"{self.model} is driving\"\n",
    "\n",
    "class Bike:\n",
    "    def __init__(self, model):\n",
    "        self.model = model\n",
    "\n",
    "    def move(self):\n",
    "        return f\"{self.model} is riding\"\n",
    "\n",
    "def operate_vehicle(vehicle):\n",
    "    return vehicle.move()\n",
    "\n",
    "car = Car(model=\"Toyota\")\n",
    "bike = Bike(model=\"Yamaha\")\n",
    "\n",
    "print(operate_vehicle(car))\n",
    "print(operate_vehicle(bike))\n"
   ]
  },
  {
   "cell_type": "code",
   "execution_count": 35,
   "metadata": {},
   "outputs": [
    {
     "name": "stdout",
     "output_type": "stream",
     "text": [
      "Dell is operating\n",
      "iPhone is operating\n"
     ]
    }
   ],
   "source": [
    "class Laptop:\n",
    "    def __init__(self, model):\n",
    "        self.model = model\n",
    "\n",
    "    def operate(self):\n",
    "        return f\"{self.model} is operating\"\n",
    "\n",
    "class Smartphone:\n",
    "    def __init__(self, model):\n",
    "        self.model = model\n",
    "\n",
    "    def operate(self):\n",
    "        return f\"{self.model} is operating\"\n",
    "\n",
    "def operate_device(device):\n",
    "    return device.operate()\n",
    "\n",
    "laptop = Laptop(model=\"Dell\")\n",
    "smartphone = Smartphone(model=\"iPhone\")\n",
    "\n",
    "print(operate_device(laptop))\n",
    "print(operate_device(smartphone))\n"
   ]
  },
  {
   "cell_type": "code",
   "execution_count": 36,
   "metadata": {},
   "outputs": [
    {
     "name": "stdout",
     "output_type": "stream",
     "text": [
      "Bus 10A is traveling\n",
      "Train Express is traveling\n"
     ]
    }
   ],
   "source": [
    "from abc import ABC, abstractmethod\n",
    "\n",
    "class Transport(ABC):\n",
    "    @abstractmethod\n",
    "    def travel(self):\n",
    "        pass\n",
    "\n",
    "class Bus(Transport):\n",
    "    def __init__(self, route):\n",
    "        self.route = route\n",
    "\n",
    "    def travel(self):\n",
    "        return f\"Bus {self.route} is traveling\"\n",
    "\n",
    "class Train(Transport):\n",
    "    def __init__(self, route):\n",
    "        self.route = route\n",
    "\n",
    "    def travel(self):\n",
    "        return f\"Train {self.route} is traveling\"\n",
    "\n",
    "bus = Bus(route=\"10A\")\n",
    "train = Train(route=\"Express\")\n",
    "\n",
    "print(bus.travel())\n",
    "print(train.travel())\n"
   ]
  },
  {
   "cell_type": "code",
   "execution_count": 37,
   "metadata": {},
   "outputs": [
    {
     "name": "stdout",
     "output_type": "stream",
     "text": [
      "Processing credit card payment for 1234\n",
      "Processing PayPal payment for user@example.com\n"
     ]
    }
   ],
   "source": [
    "from abc import ABC, abstractmethod\n",
    "\n",
    "class Payment(ABC):\n",
    "    @abstractmethod\n",
    "    def process(self):\n",
    "        pass\n",
    "\n",
    "class CreditCard(Payment):\n",
    "    def __init__(self, number):\n",
    "        self.number = number\n",
    "\n",
    "    def process(self):\n",
    "        return f\"Processing credit card payment for {self.number}\"\n",
    "\n",
    "class PayPal(Payment):\n",
    "    def __init__(self, account):\n",
    "        self.account = account\n",
    "\n",
    "    def process(self):\n",
    "        return f\"Processing PayPal payment for {self.account}\"\n",
    "\n",
    "\n",
    "credit_card_payment = CreditCard(number=\"1234\")\n",
    "paypal_payment = PayPal(account=\"user@example.com\")\n",
    "\n",
    "print(credit_card_payment.process())\n",
    "print(paypal_payment.process())\n"
   ]
  },
  {
   "cell_type": "code",
   "execution_count": 49,
   "metadata": {},
   "outputs": [
    {
     "data": {
      "text/plain": [
       "True"
      ]
     },
     "execution_count": 49,
     "metadata": {},
     "output_type": "execute_result"
    }
   ],
   "source": [
    "class MathUtils:\n",
    "\n",
    "    @staticmethod\n",
    "    def is_prime(n):\n",
    "        if n>1:\n",
    "            for i in range(2,n):\n",
    "                if(n%i) == 0:\n",
    "                    return False\n",
    "                else:\n",
    "                    return True\n",
    "        return False\n",
    "                \n",
    "    \n",
    "number = 17\n",
    "MathUtils.is_prime(number)"
   ]
  },
  {
   "cell_type": "code",
   "execution_count": 50,
   "metadata": {},
   "outputs": [
    {
     "data": {
      "text/plain": [
       "77.0"
      ]
     },
     "execution_count": 50,
     "metadata": {},
     "output_type": "execute_result"
    }
   ],
   "source": [
    "class TemparatureConverter:\n",
    "\n",
    "    @staticmethod\n",
    "    def celsius_to_fahrenheit(c):\n",
    "\n",
    "        f = (9/5) * c+32\n",
    "\n",
    "        return f\n",
    "    \n",
    "\n",
    "celcius = 25\n",
    "TemparatureConverter.celsius_to_fahrenheit(celcius)\n",
    "\n"
   ]
  }
 ],
 "metadata": {
  "kernelspec": {
   "display_name": "Python 3",
   "language": "python",
   "name": "python3"
  },
  "language_info": {
   "codemirror_mode": {
    "name": "ipython",
    "version": 3
   },
   "file_extension": ".py",
   "mimetype": "text/x-python",
   "name": "python",
   "nbconvert_exporter": "python",
   "pygments_lexer": "ipython3",
   "version": "3.12.6"
  }
 },
 "nbformat": 4,
 "nbformat_minor": 2
}
