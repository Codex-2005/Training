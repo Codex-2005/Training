{
 "cells": [
  {
   "cell_type": "code",
   "execution_count": 2,
   "metadata": {},
   "outputs": [
    {
     "name": "stdout",
     "output_type": "stream",
     "text": [
      "Task1\n",
      "11\n",
      "13\n",
      "17\n",
      "19\n",
      "23\n",
      "29\n"
     ]
    }
   ],
   "source": [
    "start = 10\n",
    "end = 30\n",
    "print(\"Task1\")\n",
    "for i in range(start,end + 1):\n",
    "    if i > 1:\n",
    "        for j in range(2,i):\n",
    "            if (i % j) == 0:\n",
    "                break\n",
    "        else:\n",
    "            print(i)"
   ]
  },
  {
   "cell_type": "code",
   "execution_count": 3,
   "metadata": {},
   "outputs": [
    {
     "name": "stdout",
     "output_type": "stream",
     "text": [
      "The second largest element in list is 45\n"
     ]
    }
   ],
   "source": [
    "# Write a Python function to find the second largest element in a list.\n",
    "lst = [10, 20, 4, 45, 99]\n",
    "lst.sort()\n",
    "print(\"The second largest element in list is\",lst[-2])"
   ]
  },
  {
   "cell_type": "code",
   "execution_count": 4,
   "metadata": {},
   "outputs": [
    {
     "name": "stdout",
     "output_type": "stream",
     "text": [
      "(1, 2, 3, 4, 5, 6)\n"
     ]
    }
   ],
   "source": [
    "# Create a function to merge two sorted tuples into one sorted tuple\n",
    "\n",
    "tuple1 = (1,2,3)\n",
    "tuple2 = (4,5,6)\n",
    "tuple3 = tuple1 + tuple2\n",
    "print(tuple3)"
   ]
  },
  {
   "cell_type": "code",
   "execution_count": 5,
   "metadata": {},
   "outputs": [
    {
     "name": "stdout",
     "output_type": "stream",
     "text": [
      "Consulting\n"
     ]
    }
   ],
   "source": [
    "# Write a Python function to find the longest word in a given sentence.\n",
    "\n",
    "def longestword(sentence):\n",
    "    word = sentence.split(\" \")\n",
    "    longest = max(word,key=len)\n",
    "    return longest\n",
    "\n",
    "l = \"Technman Consulting Ahmedabad\"\n",
    "print(longestword(l))"
   ]
  },
  {
   "cell_type": "code",
   "execution_count": 8,
   "metadata": {},
   "outputs": [
    {
     "name": "stdout",
     "output_type": "stream",
     "text": [
      "This is Leap Year\n"
     ]
    }
   ],
   "source": [
    "# Write a Python program to classify a given year as a leap year or a non-leap year\n",
    "\n",
    "def leapyear(year):\n",
    "    if (year % 4) == 0:\n",
    "        print(\"This is Leap Year\")\n",
    "    else:\n",
    "        print(\"This is not a Leap Year\")\n",
    "\n",
    "l = 2024\n",
    "leapyear(l)"
   ]
  },
  {
   "cell_type": "code",
   "execution_count": 7,
   "metadata": {},
   "outputs": [
    {
     "name": "stdout",
     "output_type": "stream",
     "text": [
      "0\n",
      "1\n",
      "1\n",
      "2\n",
      "3\n"
     ]
    }
   ],
   "source": [
    "#Fibonacci\n",
    "def Fibonacci(n):\n",
    "    a,b = 0,1\n",
    "    for _ in range(n):\n",
    "        print(a)\n",
    "        a,b = b,a+b\n",
    "        \n",
    "    \n",
    "n = 5\n",
    "Fibonacci(n)"
   ]
  },
  {
   "cell_type": "code",
   "execution_count": 9,
   "metadata": {},
   "outputs": [
    {
     "data": {
      "text/plain": [
       "6"
      ]
     },
     "execution_count": 9,
     "metadata": {},
     "output_type": "execute_result"
    }
   ],
   "source": [
    "#GCD \n",
    "def GCD(a,b):\n",
    "    while b != 0:\n",
    "        a,b = b,a%b\n",
    "    return a\n",
    "    \n",
    "a = 48\n",
    "b = 18\n",
    "GCD(a,b)"
   ]
  },
  {
   "cell_type": "code",
   "execution_count": 10,
   "metadata": {},
   "outputs": [
    {
     "name": "stdout",
     "output_type": "stream",
     "text": [
      "{1, 2, 4, 5}\n"
     ]
    }
   ],
   "source": [
    "# Write a Python program to find the symmetric difference between two sets.\n",
    "set1 = {1, 2, 3}\n",
    "set2 = {3, 4, 5}\n",
    "set3 = set1 ^ set2\n",
    "print(set3)"
   ]
  },
  {
   "cell_type": "code",
   "execution_count": 11,
   "metadata": {},
   "outputs": [
    {
     "name": "stdout",
     "output_type": "stream",
     "text": [
      "The roots are: (2+0j) and (1+0j)\n"
     ]
    }
   ],
   "source": [
    "# Write a Python program to solve a quadratic equation (ax^2 + bx + c = 0) and classify the\n",
    "# roots as real, complex, or equal.\n",
    "# External Help Taken\n",
    "\n",
    "import cmath \n",
    "\n",
    "def solve_quadratic(a, b, c):\n",
    "    # Calculate the discriminant\n",
    "    discriminant = b**2 - 4*a*c\n",
    "    \n",
    "    # Calculate two solutions\n",
    "    root1 = (-b + cmath.sqrt(discriminant)) / (2 * a)\n",
    "    root2 = (-b - cmath.sqrt(discriminant)) / (2 * a)\n",
    "    \n",
    "    return root1, root2\n",
    "\n",
    "# Example usage\n",
    "a = 1\n",
    "b = -3\n",
    "c = 2\n",
    "\n",
    "roots = solve_quadratic(a, b, c)\n",
    "print(f\"The roots are: {roots[0]} and {roots[1]}\")"
   ]
  },
  {
   "cell_type": "code",
   "execution_count": 12,
   "metadata": {},
   "outputs": [
    {
     "data": {
      "text/plain": [
       "[13, 40, 20, 10, 5, 16, 8, 4, 2, 1]"
      ]
     },
     "execution_count": 12,
     "metadata": {},
     "output_type": "execute_result"
    }
   ],
   "source": [
    "# Write a Python program to implement a basic version of the Collatz conjecture.\n",
    "\n",
    "def collatz(n):\n",
    "    if n <= 0:\n",
    "        return \"The number is not positive\"\n",
    "    \n",
    "    list = [n]\n",
    "\n",
    "    while n != 1:\n",
    "        if n % 2 == 0:\n",
    "            n = n // 2\n",
    "        else:\n",
    "            n  = 3 * n + 1\n",
    "        list.append(n)\n",
    "\n",
    "    return list\n",
    "\n",
    "c = 13\n",
    "collatz(c)"
   ]
  },
  {
   "cell_type": "code",
   "execution_count": 13,
   "metadata": {},
   "outputs": [
    {
     "data": {
      "text/plain": [
       "{1: 'a', 2: 'b', 3: 'c'}"
      ]
     },
     "execution_count": 13,
     "metadata": {},
     "output_type": "execute_result"
    }
   ],
   "source": [
    "# Write a Python function to invert a dictionary, swapping keys and values.\n",
    "def dict(dictt):\n",
    "    extra = {}\n",
    "    for key, val in dictt.items():\n",
    "        if val in extra:\n",
    "            print(\"wrong data\")\n",
    "        extra[val] = key\n",
    "        \n",
    "    return extra\n",
    "\n",
    "\n",
    "dict1 =  {'a': 1, 'b': 2, 'c': 3}\n",
    "dict(dict1)"
   ]
  },
  {
   "cell_type": "code",
   "execution_count": 14,
   "metadata": {},
   "outputs": [
    {
     "name": "stdout",
     "output_type": "stream",
     "text": [
      "the strings are anagram\n"
     ]
    }
   ],
   "source": [
    "def stri(str1,str2):\n",
    "    if(sorted(str1) == sorted(str2)):\n",
    "        print(\"the strings are anagram\")\n",
    "    else:\n",
    "        print(\"the string are not anagrams\")\n",
    "    \n",
    "str1 = \"listen\"\n",
    "str2 = \"silent\"\n",
    "s = stri(str1,str2)"
   ]
  },
  {
   "cell_type": "code",
   "execution_count": 15,
   "metadata": {},
   "outputs": [
    {
     "name": "stdout",
     "output_type": "stream",
     "text": [
      "(2, 4)\n",
      "(5, 1)\n"
     ]
    }
   ],
   "source": [
    "# Write a Python program to find all unique combinations of elements in a tuple that sum\n",
    "# up to a given number.\n",
    "\n",
    "def tuples(tuple1,tuple2,t):\n",
    "    s = set()\n",
    "    for i in tuple1:\n",
    "        for j in tuple2:\n",
    "            if i + j == t:\n",
    "                s.add((i,j))\n",
    "        \n",
    "    return s\n",
    "\n",
    "tuple1 = (2, 3, 5, 7)\n",
    "tuple2 = (1, 2, 4, 5)\n",
    "t = 6\n",
    "tup = tuples(tuple1,tuple2,t)\n",
    "for i in tup:\n",
    "    print(i)"
   ]
  },
  {
   "cell_type": "code",
   "execution_count": 16,
   "metadata": {},
   "outputs": [
    {
     "name": "stdout",
     "output_type": "stream",
     "text": [
      "{'a': 1, 'b': 5, 'c': 4}\n"
     ]
    }
   ],
   "source": [
    "# Write a Python program to merge multiple dictionaries and sum the values of common\n",
    "# keys.\n",
    "\n",
    "def dicts(dict1,dict2):\n",
    "    dict3 = {}\n",
    "\n",
    "    for key in dict1:\n",
    "        dict3[key] = dict1[key]\n",
    "\n",
    "    for key in dict2:\n",
    "        if key in dict3:\n",
    "            dict3[key] += dict2[key]\n",
    "        else:\n",
    "            dict3[key] = dict2[key]\n",
    "\n",
    "    return dict3\n",
    "\n",
    "dict1 = {'a': 1, 'b': 2}\n",
    "dict2 = {'b': 3, 'c': 4}\n",
    "d = dicts(dict1,dict2)\n",
    "print(d)"
   ]
  },
  {
   "cell_type": "code",
   "execution_count": 17,
   "metadata": {},
   "outputs": [
    {
     "name": "stdout",
     "output_type": "stream",
     "text": [
      "[]\n",
      "[1]\n",
      "[2]\n",
      "[1, 2]\n",
      "[3]\n",
      "[1, 3]\n",
      "[2, 3]\n",
      "[1, 2, 3]\n"
     ]
    }
   ],
   "source": [
    "#  Write a Python function to find all subsets of a given set.\n",
    "# set = {1, 2, 3}\n",
    "# [{}, {1}, {2}, {3}, {1, 2}, {1, 3}, {2,\n",
    "# 3}, {1, 2, 3}]\n",
    "\n",
    "def subsets(sett):\n",
    "    s = [[]]\n",
    "    for i in sett:\n",
    "        new_set = []\n",
    "        for j in s:\n",
    "            new = j + [i]\n",
    "            new_set.append(new)\n",
    "        \n",
    "        s.extend(new_set)\n",
    "\n",
    "    return s\n",
    "\n",
    "set1 = {1,2,3}\n",
    "sets = subsets(set1)\n",
    "for i in sets:\n",
    "    print(i)"
   ]
  },
  {
   "cell_type": "code",
   "execution_count": 18,
   "metadata": {},
   "outputs": [
    {
     "name": "stdout",
     "output_type": "stream",
     "text": [
      "(1, 2, 3)\n",
      "(1, 3, 2)\n",
      "(2, 1, 3)\n",
      "(2, 3, 1)\n",
      "(3, 1, 2)\n",
      "(3, 2, 1)\n"
     ]
    }
   ],
   "source": [
    "# Write a Python program to generate all possible permutations of a list of numbers.\n",
    "\n",
    "from itertools import permutations\n",
    "def perm(lst):\n",
    "    return list(permutations(lst))\n",
    "\n",
    "list1 = [1,2,3]\n",
    "perms = perm(list1)\n",
    "for i in perms:\n",
    "    print(i)"
   ]
  },
  {
   "cell_type": "code",
   "execution_count": 19,
   "metadata": {},
   "outputs": [
    {
     "name": "stdout",
     "output_type": "stream",
     "text": [
      "3\n"
     ]
    }
   ],
   "source": [
    "# Create a program that evaluates a list of Boolean expressions and returns the count of\n",
    "# True values.\n",
    "\n",
    "\n",
    "count = 0\n",
    "lst = [True, False, True, True, False]\n",
    "for i in lst:\n",
    "    if i == True:\n",
    "        count += 1\n",
    "\n",
    "print(count)"
   ]
  },
  {
   "cell_type": "code",
   "execution_count": 20,
   "metadata": {},
   "outputs": [
    {
     "data": {
      "text/plain": [
       "True"
      ]
     },
     "execution_count": 20,
     "metadata": {},
     "output_type": "execute_result"
    }
   ],
   "source": [
    "# Write a Python function to evaluate a complex Boolean expression represented as a string\n",
    "# (e.g., \"True and False or True\").\n",
    "\n",
    "s = \"True and False or True\"\n",
    "eval(s)"
   ]
  },
  {
   "cell_type": "code",
   "execution_count": 21,
   "metadata": {},
   "outputs": [
    {
     "name": "stdout",
     "output_type": "stream",
     "text": [
      "[2, 3, 5, 7, 11]\n"
     ]
    }
   ],
   "source": [
    "# Write a Python program to find the first n numbers that are both prime\n",
    "\n",
    "def first_prime(n):\n",
    "    count = 0\n",
    "    lst = []\n",
    "    num = 2\n",
    "    while count < n:\n",
    "        i = 2\n",
    "        while i < num:\n",
    "            if num % i == 0:\n",
    "                break\n",
    "            i += 1\n",
    "        else:\n",
    "            lst.append(i)\n",
    "            count += 1\n",
    "        num += 1\n",
    "    return lst\n",
    "\n",
    "f = 5\n",
    "print(first_prime(f))"
   ]
  }
 ],
 "metadata": {
  "kernelspec": {
   "display_name": "Python 3",
   "language": "python",
   "name": "python3"
  },
  "language_info": {
   "codemirror_mode": {
    "name": "ipython",
    "version": 3
   },
   "file_extension": ".py",
   "mimetype": "text/x-python",
   "name": "python",
   "nbconvert_exporter": "python",
   "pygments_lexer": "ipython3",
   "version": "3.12.6"
  }
 },
 "nbformat": 4,
 "nbformat_minor": 2
}
