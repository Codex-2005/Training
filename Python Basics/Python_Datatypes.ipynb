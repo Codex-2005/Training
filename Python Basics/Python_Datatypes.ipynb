{
 "cells": [
  {
   "cell_type": "code",
   "execution_count": 1,
   "metadata": {},
   "outputs": [
    {
     "name": "stdout",
     "output_type": "stream",
     "text": [
      "Hello!\n"
     ]
    }
   ],
   "source": [
    "print(\"Hello!\")"
   ]
  },
  {
   "cell_type": "code",
   "execution_count": 17,
   "metadata": {},
   "outputs": [
    {
     "name": "stdout",
     "output_type": "stream",
     "text": [
      "Prime numbers between 1 and 20 are : \n",
      "2 3 5 7 11 13 17 19\n",
      "----------------------------------------------------------------------------------------------------------------------------------------------------------------------\n",
      "The first n prime numbers are : \n",
      "2 3 5 7 11 13 17 19 23 29\n"
     ]
    }
   ],
   "source": [
    "# 1. Numbers \n",
    "\n",
    "# Write a Python program to find all the prime numbers between two given numbers.\n",
    "\n",
    "def isPrime(number) :\n",
    "    if number <= 1:\n",
    "        return False\n",
    "    for i in range(2, int(number // 2) + 1) :\n",
    "        if number % i == 0:\n",
    "            return False\n",
    "    return True\n",
    "\n",
    "start = int(input(\"Enter the start number : \"))\n",
    "end = int(input(\"Enter the end number : \"))\n",
    "\n",
    "primeNumbers = []\n",
    "for value in range(start, end + 1) :\n",
    "    if isPrime(value) :\n",
    "        primeNumbers.append(value)\n",
    "\n",
    "print(\"Prime numbers between \" + str(start) + \" and \" + str(end) + \" are : \")\n",
    "result = ' '.join([str(element) for element in primeNumbers])\n",
    "print(result)\n",
    "\n",
    "print(\"----------------------------------------------------------------------------------------------------------------------------------------------------------------------\")\n",
    "\n",
    "# Write a Python program to find the first n numbers that are prime.\n",
    "\n",
    "def isPrime(number) :\n",
    "    if number <= 1:\n",
    "        return False\n",
    "    for i in range(2, int(number // 2) + 1) :\n",
    "        if number % i == 0:\n",
    "            return False\n",
    "    return True\n",
    "\n",
    "n = int(input(\"Enter the value of n : \"))\n",
    "\n",
    "nPrimeNumbers = []\n",
    "number = 2\n",
    "while(len(nPrimeNumbers)) < n :\n",
    "    if isPrime(number) :\n",
    "        nPrimeNumbers.append(number)\n",
    "    number += 1 \n",
    "\n",
    "print(\"The first n prime numbers are : \")\n",
    "result = ' '.join([str(element) for element in nPrimeNumbers])\n",
    "print(result)"
   ]
  },
  {
   "cell_type": "code",
   "execution_count": 11,
   "metadata": {},
   "outputs": [
    {
     "name": "stdout",
     "output_type": "stream",
     "text": [
      "The longest word in the given sentence is : jumps\n",
      "----------------------------------------------------------------------------------------------------------------------------------------------------------------------\n",
      "listen and silent are anagrams.\n"
     ]
    }
   ],
   "source": [
    "# 2. Strings\n",
    "\n",
    "# Write a Python function to find the longest word in a given sentence.\n",
    "\n",
    "sentence = input(\"Enter a sentence: \")\n",
    "words = sentence.split()\n",
    "longestWord = \"\"\n",
    "maxLength = 0\n",
    "\n",
    "for word in words:\n",
    "    if maxLength <= len(word) :\n",
    "        maxLength = len(word)\n",
    "        longestWord = word\n",
    "    else :\n",
    "        continue\n",
    "\n",
    "print(\"The longest word in the given sentence is : \" + longestWord)\n",
    "\n",
    "print(\"----------------------------------------------------------------------------------------------------------------------------------------------------------------------\")\n",
    "\n",
    "# Write a Python function to check if two given strings are anagrams of each other.\n",
    "    # Anagrams : a string/word that is formed by rearranging the letters of other string/word.\n",
    "\n",
    "string1 = input(\"Enter first string : \")\n",
    "string2 = input(\"Enter second string : \")\n",
    "\n",
    "string1 = string1.replace(\" \", \"\").lower()\n",
    "string2 = string2.replace(\" \", \"\").lower()\n",
    "\n",
    "if sorted(string1) == sorted(string2) :\n",
    "    print(string1, \"and\", string2, \"are anagrams.\")\n",
    "else :\n",
    "    print(string1, \"and\", string2, \"are not anagrams.\")"
   ]
  },
  {
   "cell_type": "code",
   "execution_count": 19,
   "metadata": {},
   "outputs": [
    {
     "name": "stdout",
     "output_type": "stream",
     "text": [
      "The total number of True values are :  3\n",
      "----------------------------------------------------------------------------------------------------------------------------------------------------------------------\n",
      "The result of boolean expression is :  True\n"
     ]
    }
   ],
   "source": [
    "# 3. Booleans\n",
    "\n",
    "# Create a program that evaluates a list of Boolean expressions and returns the count of True values.\n",
    "\n",
    "booleanExpressions = [True, False, True, True, False]\n",
    "countTrue = 0\n",
    "\n",
    "for expression in booleanExpressions :\n",
    "    if expression :\n",
    "        countTrue +=1\n",
    "\n",
    "print(\"The total number of True values are : \", str(countTrue))\n",
    "\n",
    "print(\"----------------------------------------------------------------------------------------------------------------------------------------------------------------------\")\n",
    "\n",
    "# Write a Python function to evaluate a complex Boolean expression represented as a string. (e.g., \"True and False or True\").\n",
    "\n",
    "expression = input(\"Enter a boolean expression : \")\n",
    "result = eval(expression)\n",
    "if isinstance(result, bool) :\n",
    "    print(\"The result of boolean expression is : \", result)\n",
    "else : \n",
    "    print(\"The boolean expression did not evaluate to a Bolean value.\")"
   ]
  },
  {
   "cell_type": "code",
   "execution_count": 4,
   "metadata": {},
   "outputs": [
    {
     "name": "stdout",
     "output_type": "stream",
     "text": [
      "The second largest number is :  45\n",
      "----------------------------------------------------------------------------------------------------------------------------------------------------------------------\n",
      "All possible permutations:\n",
      "[1, 2, 3]\n",
      "[1, 3, 2]\n",
      "[2, 1, 3]\n",
      "[2, 3, 1]\n",
      "[3, 1, 2]\n",
      "[3, 2, 1]\n"
     ]
    }
   ],
   "source": [
    "# 4. Lists\n",
    "\n",
    "# Write a Python function to find the second largest element in a list.\n",
    "\n",
    "listLength = int(input(\"Enter the length of the list : \"))\n",
    "stringElements = input(\"Enter the elements of list, separate with space : \")\n",
    "elements = stringElements.split(\" \")\n",
    "numbers = []\n",
    "\n",
    "for value in elements :\n",
    "    numbers.append(int(value))\n",
    "\n",
    "numbers.sort(reverse=True)\n",
    "\n",
    "if listLength < 2 : \n",
    "    print(\"The list does not have enough numbers.\")\n",
    "else : \n",
    "    print(\"The second largest number is : \", numbers[1])\n",
    "\n",
    "print(\"----------------------------------------------------------------------------------------------------------------------------------------------------------------------\")\n",
    "\n",
    "# Write a Python program to generate all possible permutations of a list of numbers.\n",
    "\n",
    "def generatePermutations(nums) :\n",
    "    if len(nums) == 0 :\n",
    "        return [[]]\n",
    "    \n",
    "    permutations = []\n",
    "\n",
    "    for i in range(len(nums)) :\n",
    "        current = nums[i]\n",
    "        remaining = nums[:i] + nums[i+1:]\n",
    "        for permutation in generatePermutations(remaining) :\n",
    "            permutations.append([current] + permutation)\n",
    "    return permutations\n",
    "\n",
    "nums = [1, 2, 3]\n",
    "allPermutations = generatePermutations(nums)\n",
    "print(\"All possible permutations:\")\n",
    "for permutation in allPermutations:\n",
    "    print(permutation)"
   ]
  },
  {
   "cell_type": "code",
   "execution_count": 17,
   "metadata": {},
   "outputs": [
    {
     "name": "stdout",
     "output_type": "stream",
     "text": [
      "The Merged Sorted Tuple is :  (1, 2, 3, 4, 5, 6)\n",
      "----------------------------------------------------------------------------------------------------------------------------------------------------------------------\n",
      "Unique combinations of elements that sum to  10 are :\n",
      "(3, 7)\n",
      "(2, 3, 5)\n"
     ]
    }
   ],
   "source": [
    "# 5. Tuple\n",
    "\n",
    "# Create a function to merge two sorted tuples into one sorted tuple.\n",
    "\n",
    "tuple1 = (1, 3, 5)\n",
    "tuple2 = (2, 4, 6)\n",
    "\n",
    "mergedSortedList = []\n",
    "i, j = 0, 0\n",
    "\n",
    "while i < len(tuple1) and j < len(tuple2):\n",
    "    if tuple1[i] < tuple2[j]:\n",
    "        mergedSortedList.append(tuple1[i])\n",
    "        i += 1\n",
    "    else:\n",
    "        mergedSortedList.append(tuple2[j])\n",
    "        j += 1\n",
    "\n",
    "mergedSortedList.extend(tuple1[i:])\n",
    "mergedSortedList.extend(tuple2[j:])\n",
    "\n",
    "print(\"The Merged Sorted Tuple is : \", tuple(mergedSortedList))\n",
    "\n",
    "print(\"----------------------------------------------------------------------------------------------------------------------------------------------------------------------\")\n",
    "\n",
    "# Write a Python program to find all unique combinations of elements in a tuple that sum up to a given number.\n",
    "\n",
    "from itertools import combinations\n",
    "\n",
    "tupleElements = (2, 3, 5, 7)\n",
    "target = 10\n",
    "\n",
    "result = set()\n",
    "\n",
    "for i in range(1, len(tupleElements) + 1) :\n",
    "    for combo in combinations(tupleElements, i) :\n",
    "        if sum(combo) == target :\n",
    "            result.add(tuple(sorted(combo)))\n",
    "\n",
    "print(\"Unique combinations of elements that sum to \", target, \"are :\")\n",
    "for combination in result : \n",
    "    print(combination)\n"
   ]
  },
  {
   "cell_type": "code",
   "execution_count": 22,
   "metadata": {},
   "outputs": [
    {
     "name": "stdout",
     "output_type": "stream",
     "text": [
      "Initial Dictonary :  {'a': 1, 'b': 2, 'c': 3}\n",
      "Inverted Dictionary :  {1: 'a', 2: 'b', 3: 'c'}\n",
      "----------------------------------------------------------------------------------------------------------------------------------------------------------------------\n",
      "The Merged Dictionary with the summed values :  {'a': 1, 'b': 5, 'c': 4}\n"
     ]
    }
   ],
   "source": [
    "# 6. Dictionaries\n",
    "\n",
    "# Write a Python function to invert a dictionary, swapping keys and values.\n",
    "\n",
    "initialDict = {'a': 1, 'b': 2, 'c': 3}\n",
    "invertedDict = {value: key for key, value in initialDict.items()}\n",
    "\n",
    "print(\"Initial Dictonary : \", initialDict)\n",
    "print(\"Inverted Dictionary : \", invertedDict)\n",
    "\n",
    "print(\"----------------------------------------------------------------------------------------------------------------------------------------------------------------------\")\n",
    "\n",
    "# Write a Python program to merge multiple dictionaries and sum the values of common keys.\n",
    "\n",
    "from collections import defaultdict\n",
    "\n",
    "def mergeAndSumValuesOfDicts(*dicts) :\n",
    "    mergedAndSumDict = defaultdict(int)\n",
    "    \n",
    "    for d in dicts:\n",
    "        for key, value in d.items() :\n",
    "            mergedAndSumDict[key] += value\n",
    "    \n",
    "    return dict(mergedAndSumDict)\n",
    "\n",
    "dict1 = {'a': 1, 'b': 2}\n",
    "dict2 = {'b': 3, 'c': 4}\n",
    "\n",
    "mergedDict = mergeAndSumValuesOfDicts(dict1, dict2)\n",
    "\n",
    "print(\"The Merged Dictionary with the summed values : \", mergedDict)\n"
   ]
  },
  {
   "cell_type": "code",
   "execution_count": 23,
   "metadata": {},
   "outputs": [
    {
     "name": "stdout",
     "output_type": "stream",
     "text": [
      "The Symmetrix Difference between two sets is :  {1, 2, 4, 5}\n",
      "----------------------------------------------------------------------------------------------------------------------------------------------------------------------\n",
      "All the subsets of given set are :  [set(), {1}, {2}, {3}, {1, 2}, {1, 3}, {2, 3}, {1, 2, 3}]\n"
     ]
    }
   ],
   "source": [
    "# 7. Sets\n",
    "\n",
    "# Write a Python program to find the symmetric difference between two sets.\n",
    "\n",
    "set1 = {1, 2, 3}\n",
    "set2 = {3, 4, 5}\n",
    "\n",
    "symmetricDifference = set1.symmetric_difference(set2)\n",
    "\n",
    "print(\"The Symmetrix Difference between two sets is : \", symmetricDifference)\n",
    "\n",
    "print(\"----------------------------------------------------------------------------------------------------------------------------------------------------------------------\")\n",
    "\n",
    "# Write a Python function to find all subsets of a given set.\n",
    "\n",
    "from itertools import chain, combinations\n",
    "inputSet = {1, 2, 3}\n",
    "\n",
    "subsets = []\n",
    "\n",
    "for i in range(len(inputSet) + 1) :\n",
    "    for subset in combinations(inputSet, i) :\n",
    "        subsets.append(set(subset))\n",
    "\n",
    "print(\"All the subsets of given set are : \", subsets)"
   ]
  }
 ],
 "metadata": {
  "kernelspec": {
   "display_name": "Python 3",
   "language": "python",
   "name": "python3"
  },
  "language_info": {
   "codemirror_mode": {
    "name": "ipython",
    "version": 3
   },
   "file_extension": ".py",
   "mimetype": "text/x-python",
   "name": "python",
   "nbconvert_exporter": "python",
   "pygments_lexer": "ipython3",
   "version": "3.12.7"
  }
 },
 "nbformat": 4,
 "nbformat_minor": 2
}
