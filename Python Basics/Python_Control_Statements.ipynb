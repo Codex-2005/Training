{
 "cells": [
  {
   "cell_type": "code",
   "execution_count": 11,
   "metadata": {},
   "outputs": [
    {
     "name": "stdout",
     "output_type": "stream",
     "text": [
      "2020 is a Leap year.\n",
      "----------------------------------------------------------------------------------------------------------------------------------------------------------------------\n",
      "Real Roots :  2.0 , 1.0\n"
     ]
    }
   ],
   "source": [
    "# 1. If Statements\n",
    "\n",
    "# Write a Python program to classify a given year as a leap year or a non-leap year.\n",
    "\n",
    "year = int(input(\"Enter the year : \"))\n",
    "\n",
    "if (year % 4 == 0 and year % 100 != 0) or year % 400 == 0 :\n",
    "    print(year, \"is a Leap year.\")\n",
    "else :\n",
    "    print(year, \"is not a Leap year.\")\n",
    "\n",
    "print(\"----------------------------------------------------------------------------------------------------------------------------------------------------------------------\")\n",
    "\n",
    "# Write a Python program to solve a quadratic equation (ax^2 + bx + c = 0) and classify the roots as real, complex, or equal.\n",
    "\n",
    "a = 1\n",
    "b = -3 \n",
    "c = 2\n",
    "\n",
    "discriminant = b**2 - 4*a*c\n",
    "if discriminant > 0:\n",
    "    root1 = (-b + discriminant ** 0.5) / (2*a)\n",
    "    root2 = (-b - discriminant ** 0.5) / (2*a)\n",
    "    print(\"Real Roots : \", root1, \",\", root2)\n",
    "\n",
    "elif discriminant == 0:\n",
    "    root = -b / (2*a)\n",
    "    print(\"Equal Roots : \", root)\n",
    "\n",
    "else:\n",
    "    root1 = (-b + cmath.sqrt(discriminant)) / (2*a)\n",
    "    root2 = (-b - cmath.sqrt(discriminant)) / (2*a)\n",
    "    print(\"Complex Roots : \", root1, \",\", root2)\n"
   ]
  },
  {
   "cell_type": "code",
   "execution_count": 13,
   "metadata": {},
   "outputs": [
    {
     "name": "stdout",
     "output_type": "stream",
     "text": [
      "Fibonacci Series :  [0, 1, 1, 2, 3]\n",
      "----------------------------------------------------------------------------------------------------------------------------------------------------------------------\n",
      "Longest Increasing Subsequence :  [10, 22, 33, 41, 60, 80]\n"
     ]
    }
   ],
   "source": [
    "# 2. For Loops\n",
    "\n",
    "# Write a Python function to generate the Fibonacci series up to a given number of terms.\n",
    "\n",
    "terms = int(input(\"Enter the number of terms (n) : \"))\n",
    "\n",
    "fibSeries = [0, 1]\n",
    "\n",
    "if terms == 1 :\n",
    "    print(\"Fibonacci Series : \", fibSeries[0])\n",
    "if terms == 2 :\n",
    "    print(\"Fibonacci Series : \", fibSeries)\n",
    "else :\n",
    "    for i in range(2, terms) :\n",
    "        fibSeries.append(fibSeries[-1] + fibSeries[-2])\n",
    "    print(\"Fibonacci Series : \", fibSeries)\n",
    "\n",
    "print(\"----------------------------------------------------------------------------------------------------------------------------------------------------------------------\")\n",
    "\n",
    "# Write a Python program to find the longest increasing subsequence in a given list of numbers.\n",
    "\n",
    "nums = [10, 22, 9, 33, 21, 50, 41, 60, 80]\n",
    "\n",
    "n = len(nums)\n",
    "temp = [1] * n \n",
    "\n",
    "for i in range(1, n):\n",
    "    for j in range(0, i):\n",
    "        if nums[i] > nums[j] and temp[i] < temp[j] + 1:\n",
    "            temp[i] = temp[j] + 1\n",
    "\n",
    "maximum = max(temp)\n",
    "result = []\n",
    "for i in reversed(range(n)):\n",
    "    if temp[i] == maximum:\n",
    "        result.append(nums[i])\n",
    "        maximum -= 1\n",
    "\n",
    "print(\"Longest Increasing Subsequence : \", result[::-1])"
   ]
  },
  {
   "cell_type": "code",
   "execution_count": 15,
   "metadata": {},
   "outputs": [
    {
     "name": "stdout",
     "output_type": "stream",
     "text": [
      "Greatest Common Divisor :  6\n",
      "----------------------------------------------------------------------------------------------------------------------------------------------------------------------\n"
     ]
    },
    {
     "ename": "KeyboardInterrupt",
     "evalue": "",
     "output_type": "error",
     "traceback": [
      "\u001b[1;31m---------------------------------------------------------------------------\u001b[0m",
      "\u001b[1;31mKeyboardInterrupt\u001b[0m                         Traceback (most recent call last)",
      "Cell \u001b[1;32mIn[15], line 21\u001b[0m\n\u001b[0;32m     17\u001b[0m number \u001b[38;5;241m=\u001b[39m \u001b[38;5;28mint\u001b[39m(\u001b[38;5;28minput\u001b[39m(\u001b[38;5;124m\"\u001b[39m\u001b[38;5;124mEnter the number : \u001b[39m\u001b[38;5;124m\"\u001b[39m)) \n\u001b[0;32m     19\u001b[0m colConsequence \u001b[38;5;241m=\u001b[39m [number]\n\u001b[1;32m---> 21\u001b[0m \u001b[38;5;28;01mwhile\u001b[39;00m number \u001b[38;5;241m!=\u001b[39m \u001b[38;5;241m1\u001b[39m :\n\u001b[0;32m     22\u001b[0m     \u001b[38;5;28;01mif\u001b[39;00m number \u001b[38;5;241m%\u001b[39m \u001b[38;5;241m2\u001b[39m \u001b[38;5;241m==\u001b[39m \u001b[38;5;241m0\u001b[39m :\n\u001b[0;32m     23\u001b[0m         number \u001b[38;5;241m/\u001b[39m\u001b[38;5;241m/\u001b[39m\u001b[38;5;241m=\u001b[39m \u001b[38;5;241m2\u001b[39m\n",
      "\u001b[1;31mKeyboardInterrupt\u001b[0m: "
     ]
    }
   ],
   "source": [
    "# 3. While Loops\n",
    "\n",
    "# Write a Python program to find the greatest common divisor (GCD) of two numbers using the Euclidean algorithm.\n",
    "\n",
    "num1 = 48\n",
    "num2 = 18\n",
    "\n",
    "while num2 :\n",
    "    num1, num2 = num2, num1 % num2\n",
    "\n",
    "print(\"Greatest Common Divisor : \", num1)\n",
    "\n",
    "print(\"----------------------------------------------------------------------------------------------------------------------------------------------------------------------\")\n",
    "\n",
    "# Write a Python program to implement a basic version of the Collatz conjecture.\n",
    "\n",
    "number = int(input(\"Enter the number : \")) \n",
    "\n",
    "colConsequence = [number]\n",
    "\n",
    "while number != 1 :\n",
    "    if number % 2 == 0 :\n",
    "        number = number // 2\n",
    "    else :\n",
    "        number = number * 3 + 1\n",
    "    colConsequence.append(number)\n",
    "\n",
    "print(\"Collatz Conjecture sequence : \", colConsequence)"
   ]
  }
 ],
 "metadata": {
  "kernelspec": {
   "display_name": "Python 3",
   "language": "python",
   "name": "python3"
  },
  "language_info": {
   "codemirror_mode": {
    "name": "ipython",
    "version": 3
   },
   "file_extension": ".py",
   "mimetype": "text/x-python",
   "name": "python",
   "nbconvert_exporter": "python",
   "pygments_lexer": "ipython3",
   "version": "3.12.7"
  }
 },
 "nbformat": 4,
 "nbformat_minor": 2
}
