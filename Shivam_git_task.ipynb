{
 "cells": [
  {
   "cell_type": "markdown",
   "metadata": {},
   "source": [
    "Write a Python program to find all the prime numbers between two given numbers.\n",
    "■ Example Test Case:\n",
    "■ Input: start = 10, end = 30\n",
    "■ Expected Output: [11, 13, 17, 19, 23, 29]"
   ]
  },
  {
   "cell_type": "code",
   "execution_count": 4,
   "metadata": {},
   "outputs": [
    {
     "name": "stdout",
     "output_type": "stream",
     "text": [
      "[11, 13, 17, 19, 23, 29]\n"
     ]
    }
   ],
   "source": [
    "def prime(n):\n",
    "    flag = False\n",
    "    for i in range(2,n):\n",
    "        if n % i == 0:\n",
    "            flag = True\n",
    "            break\n",
    "\n",
    "    return flag\n",
    "\n",
    "start = 10\n",
    "end = 30\n",
    "\n",
    "primes = []\n",
    "for i in range(start,end + 1):\n",
    "\n",
    "    if not prime(i):\n",
    "        primes.append(i)\n",
    "\n",
    "print(primes)\n"
   ]
  },
  {
   "cell_type": "code",
   "execution_count": 5,
   "metadata": {},
   "outputs": [
    {
     "name": "stdout",
     "output_type": "stream",
     "text": [
      "[2, 3, 5, 7, 11]\n"
     ]
    }
   ],
   "source": [
    "# Write a Python program to find the first n numbers that are both prime.\n",
    "# ■ Example Test Case:\n",
    "# ■ Input: n = 5\n",
    "# ■ Expected Output: [2, 3, 5, 7, 11]\n",
    "\n",
    "n = 5\n",
    "count = 0\n",
    "primes = []\n",
    "num = 2\n",
    "while count < n:\n",
    "    if not prime(num):\n",
    "        primes.append(num)\n",
    "        count += 1\n",
    "    num += 1\n",
    "print(primes)"
   ]
  },
  {
   "cell_type": "code",
   "execution_count": 13,
   "metadata": {},
   "outputs": [
    {
     "name": "stdout",
     "output_type": "stream",
     "text": [
      "jumps\n"
     ]
    }
   ],
   "source": [
    "# 2. Strings\n",
    "# ○ Write a Python function to find the longest word in a given sentence.\n",
    "# ■ Example Test Case:\n",
    "# ■ Input: \"The quick brown fox jumps over the lazy dog\"\n",
    "# ■ Expected Output: \"jumps\"\n",
    "\n",
    "def longest_word(sen):\n",
    "    words = sen.split()\n",
    "    s = sorted(words, key=len)\n",
    "    print(s[-1])\n",
    "\n",
    "longest_word(\"The quick brown fox jumps over the lazy dog\")"
   ]
  },
  {
   "cell_type": "code",
   "execution_count": 19,
   "metadata": {},
   "outputs": [
    {
     "name": "stdout",
     "output_type": "stream",
     "text": [
      "True\n"
     ]
    }
   ],
   "source": [
    "# Write a Python function to check if two given strings are anagrams of each other.\n",
    "# ■ Example Test Case:\n",
    "# ■ Input: str1 = \"listen\", str2 = \"silent\"\n",
    "# ■ Expected Output: True\n",
    "\n",
    "str1 = \"listen\"\n",
    "str2 = \"silent\"\n",
    "def anagrams(str1,str2):\n",
    "    print(sorted(set(str1.lower())) == sorted(set(str2.lower())))\n",
    "anagrams(str1,str2)"
   ]
  },
  {
   "cell_type": "code",
   "execution_count": 20,
   "metadata": {},
   "outputs": [
    {
     "name": "stdout",
     "output_type": "stream",
     "text": [
      "3\n"
     ]
    }
   ],
   "source": [
    "# ○ Create a program that evaluates a list of Boolean expressions and returns the count of\n",
    "# True values.\n",
    "# ■ Example Test Case:\n",
    "# ■ Input: [True, False, True, True, False]\n",
    "# ■ Expected Output: 3\n",
    "booleans = [True, False, True, True, False]\n",
    "\n",
    "count = 0\n",
    "for i in booleans:\n",
    "    if i : count += 1\n",
    "print(count)\n"
   ]
  },
  {
   "cell_type": "code",
   "execution_count": 22,
   "metadata": {},
   "outputs": [
    {
     "name": "stdout",
     "output_type": "stream",
     "text": [
      "False\n"
     ]
    }
   ],
   "source": [
    "# ○ Write a Python function to evaluate a complex Boolean expression represented as a string\n",
    "# (e.g., \"True and False or True\").\n",
    "# ■ Example Test Case:\n",
    "# ■ Input: \"True and False or True\"\n",
    "# ■ Expected Output: True\n",
    "s = \"True and False and True\"\n",
    "print(eval(s))"
   ]
  },
  {
   "cell_type": "code",
   "execution_count": null,
   "metadata": {},
   "outputs": [
    {
     "name": "stdout",
     "output_type": "stream",
     "text": [
      "[10, 20, 45, 99]\n",
      "45\n"
     ]
    }
   ],
   "source": [
    "# Write a Python function to find the second largest element in a list.\n",
    "# ■ Example Test Case:\n",
    "# ■ Input: [10, 20, 4, 45, 99]\n",
    "# ■ Expected Output: 45\n",
    "\n",
    "lst = [10, 20, 4, 45, 99]\n",
    "lst.sort()\n",
    "print(lst[-2])\n",
    "\n",
    "# max = [lst[0]]\n",
    "# for i in lst:\n",
    "#     if i > max[-1]:\n",
    "#         max.append(i)\n",
    "    \n",
    "# print(max)\n",
    "# print(max[-2])"
   ]
  },
  {
   "cell_type": "code",
   "execution_count": null,
   "metadata": {},
   "outputs": [
    {
     "name": "stdout",
     "output_type": "stream",
     "text": [
      "[(1, 2, 3), (1, 3, 2), (2, 1, 3), (2, 3, 1), (3, 1, 2), (3, 2, 1)]\n"
     ]
    }
   ],
   "source": [
    "#  Write a Python program to generate all possible permutations of a list of numbers.\n",
    "# ■ Example Test Case:\n",
    "# ■ Input: [1, 2, 3]\n",
    "\n",
    "# ■ Expected Output: [[1, 2, 3], [1, 3, 2], [2, 1, 3], [2, 3, 1], [3, 1, 2], [3, 2, 1]]\n",
    "\n",
    "from itertools import permutations\n",
    "nums = [1,2,3]\n",
    "print(list(permutations(nums)))\n"
   ]
  },
  {
   "cell_type": "code",
   "execution_count": null,
   "metadata": {},
   "outputs": [
    {
     "name": "stdout",
     "output_type": "stream",
     "text": [
      "[1, 2, 3, 4, 5, 6]\n"
     ]
    }
   ],
   "source": [
    "# 5. Tuples\n",
    "# ○ Create a function to merge two sorted tuples into one sorted tuple.\n",
    "# ■ Example Test Case:\n",
    "# ■ Input: tuple1 = (1, 3, 5), tuple2 = (2, 4, 6)\n",
    "# ■ Expected Output: (1, 2, 3, 4, 5, 6)\n",
    "\n",
    "tuple1 = (1, 3, 5)\n",
    "tuple2 = (2, 4, 6)\n",
    "lst1 = [j for i in (tuple1,tuple2) for j in i]\n",
    "lst1.sort()\n",
    "print(lst1)\n"
   ]
  },
  {
   "cell_type": "code",
   "execution_count": 47,
   "metadata": {},
   "outputs": [
    {
     "name": "stdout",
     "output_type": "stream",
     "text": [
      "[[2, 3, 5], [3, 7]]\n"
     ]
    }
   ],
   "source": [
    "# ○ Write a Python program to find all unique combinations of elements in a tuple that sum\n",
    "# up to a given number.\n",
    "# ■ Example Test Case:\n",
    "# ■ Input: tuple = (2, 3, 5, 7), target = 10\n",
    "# ■ Expected Output: [(3, 7), (2, 3, 5)]\n",
    "\n",
    "ip = (2, 3, 5, 7)\n",
    "target = 10\n",
    "result = []\n",
    "\n",
    "def backtrack(start,subset):\n",
    "    if sum(subset) == target:\n",
    "        result.append((subset[:]))\n",
    "\n",
    "    for i in range(start,len(ip)):\n",
    "        subset.append(ip[i])\n",
    "        backtrack(i+1, subset)\n",
    "        subset.pop()\n",
    "backtrack(0,[])\n",
    "print(result)\n"
   ]
  },
  {
   "cell_type": "code",
   "execution_count": 48,
   "metadata": {},
   "outputs": [
    {
     "name": "stdout",
     "output_type": "stream",
     "text": [
      "{1: 'a', 2: 'b', 3: 'c'}\n"
     ]
    }
   ],
   "source": [
    "# Dictionaries\n",
    "# ○ Write a Python function to invert a dictionary, swapping keys and values.\n",
    "# ■ Example Test Case:\n",
    "# ■ Input: {'a': 1, 'b': 2, 'c': 3}\n",
    "# ■ Expected Output: {1: 'a', 2: 'b', 3: 'c'}\n",
    "\n",
    "ip ={'a': 1, 'b': 2, 'c': 3}\n",
    "op = {}\n",
    "\n",
    "for i in ip:\n",
    "    op[ip[i]] = i\n",
    "\n",
    "print(op)\n"
   ]
  },
  {
   "cell_type": "code",
   "execution_count": 56,
   "metadata": {},
   "outputs": [
    {
     "name": "stdout",
     "output_type": "stream",
     "text": [
      "{'a': 1, 'b': 5, 'c': 4}\n"
     ]
    }
   ],
   "source": [
    "# Write a Python program to merge multiple dictionaries and sum the values of common\n",
    "# keys.\n",
    "# ■ Example Test Case:\n",
    "# ■ Input: dict1 = {'a': 1, 'b': 2}, dict2 = {'b': 3, 'c': 4}\n",
    "# ■ Expected Output: {'a': 1, 'b': 5, 'c': 4}\n",
    "\n",
    "dict1 = {'a': 1, 'b': 2}\n",
    "dict2 = {'b': 3, 'c': 4}\n",
    "\n",
    "for i in dict2:\n",
    "    if i not in dict1:\n",
    "        dict1[i] = dict2[i]\n",
    "    else:\n",
    "        dict1[i] += dict2[i]\n",
    "\n",
    "print(dict1)"
   ]
  },
  {
   "cell_type": "code",
   "execution_count": 59,
   "metadata": {},
   "outputs": [
    {
     "name": "stdout",
     "output_type": "stream",
     "text": [
      "{1, 2, 4, 5}\n"
     ]
    }
   ],
   "source": [
    "# Sets\n",
    "# ○ Write a Python program to find the symmetric difference between two sets.\n",
    "# ■ Example Test Case:\n",
    "# ■ Input: set1 = {1, 2, 3}, set2 = {3, 4, 5}\n",
    "# ■ Expected Output: {1, 2, 4, 5}\n",
    "\n",
    "set1 = {1, 2, 3}\n",
    "set2 = {3, 4, 5}\n",
    "\n",
    "print( set1 ^ set2)\n"
   ]
  },
  {
   "cell_type": "code",
   "execution_count": 60,
   "metadata": {},
   "outputs": [
    {
     "name": "stdout",
     "output_type": "stream",
     "text": [
      "[[], [1], [2], [1, 2], [3], [1, 3], [2, 3], [1, 2, 3]]\n"
     ]
    }
   ],
   "source": [
    "# Write a Python function to find all subsets of a given set.\n",
    "# ■ Example Test Case:\n",
    "# ■ Input: set = {1, 2, 3}\n",
    "# ■ Expected Output: [{}, {1}, {2}, {3}, {1, 2}, {1, 3}, {2,\n",
    "# 3}, {1, 2, 3}]\n",
    "def find_subsets(input_set):\n",
    "    input_list = list(input_set)  \n",
    "    result = []\n",
    "    for i in range(2 ** len(input_list)):\n",
    "        subset = [input_list[j] for j in range(len(input_list)) if (i & (1 << j))]\n",
    "        result.append(subset)\n",
    "    \n",
    "    return result\n",
    "\n",
    "input_set = {1, 2, 3}\n",
    "subsets = find_subsets(input_set)\n",
    "print(subsets)\n"
   ]
  },
  {
   "cell_type": "code",
   "execution_count": 61,
   "metadata": {},
   "outputs": [
    {
     "name": "stdout",
     "output_type": "stream",
     "text": [
      "Leap year\n"
     ]
    }
   ],
   "source": [
    "# If Statements\n",
    "# ○ Write a Python program to classify a given year as a leap year or a non-leap year.\n",
    "# ■ Example Test Case:\n",
    "# ■ Input: year = 2020\n",
    "# ■ Expected Output: \"Leap Year\"\n",
    "\n",
    "year = 2020\n",
    "\n",
    "if ((year % 400 == 0) and (year % 10 != 0 )) or (year % 4 == 0):\n",
    "    print('Leap year')\n",
    "else:\n",
    "    print('not a leap year')\n",
    "# ○ Write a Python program to solve a quadratic equation (ax^2 + bx + c = 0) and classify the\n",
    "# roots as real, complex, or equal.\n",
    "# ■ Example Test Case:\n",
    "# ■ Input: a = 1, b = -3, c = 2\n",
    "# ■ Expected Output: Real roots: 2.0, 1.0"
   ]
  },
  {
   "cell_type": "code",
   "execution_count": 66,
   "metadata": {},
   "outputs": [
    {
     "name": "stdout",
     "output_type": "stream",
     "text": [
      "0 1 1 2 3 "
     ]
    }
   ],
   "source": [
    "# ○ Write a Python function to generate the Fibonacci series up to a given number of terms.\n",
    "# ■ Example Test Case:\n",
    "# ■ Input: terms = 5\n",
    "# ■ Expected Output: [0, 1, 1, 2, 3]\n",
    "\n",
    "n = 5\n",
    "\n",
    "if n == 1:\n",
    "    print(0)\n",
    "elif n == 2:\n",
    "    print(0,1)\n",
    "else:\n",
    "    a = 0\n",
    "    b = 1\n",
    "    print(a,end = ' ')\n",
    "    for i in range(n-1):\n",
    "        print(b,end=' ')\n",
    "        a,b = b, a+b\n"
   ]
  },
  {
   "cell_type": "code",
   "execution_count": 67,
   "metadata": {},
   "outputs": [
    {
     "name": "stdout",
     "output_type": "stream",
     "text": [
      "[10, 22, 33, 50, 60, 80]\n"
     ]
    }
   ],
   "source": [
    "# Write a Python program to find the longest increasing subsequence in a given list of\n",
    "# numbers.\n",
    "# ■ Example Test Case:\n",
    "# ■ Input: [10, 22, 9, 33, 21, 50, 41, 60, 80]\n",
    "# ■ Expected Output: [10, 22, 33, 50, 60, 80]\n",
    "\n",
    "ip = [10, 22, 9, 33, 21, 50, 41, 60, 80]\n",
    "op = [ip[0]]\n",
    "for i in ip:\n",
    "    if i > op[-1]:\n",
    "        op.append(i)\n",
    "\n",
    "print(op)\n"
   ]
  },
  {
   "cell_type": "code",
   "execution_count": 68,
   "metadata": {},
   "outputs": [
    {
     "name": "stdout",
     "output_type": "stream",
     "text": [
      "6\n"
     ]
    }
   ],
   "source": [
    "# ○ Write a Python program to find the greatest common divisor (GCD) of two numbers\n",
    "# using the Euclidean algorithm.\n",
    "# ■ Example Test Case:\n",
    "# ■ Input: num1 = 48, num2 = 18\n",
    "# ■ Expected Output: 6\n",
    "\n",
    "\n",
    "a,b = 48,18\n",
    "\n",
    "while b != 0:\n",
    "    a,b = b, a % b\n",
    "\n",
    "print(a)"
   ]
  },
  {
   "cell_type": "code",
   "execution_count": 73,
   "metadata": {},
   "outputs": [
    {
     "name": "stdout",
     "output_type": "stream",
     "text": [
      "[40, 20, 10, 5, 16, 8, 4, 2, 1]\n"
     ]
    }
   ],
   "source": [
    "# /Write a Python program to implement a basic version of the Collatz conjecture.\n",
    "# ■ Example Test Case:\n",
    "# ■ Input: number = 13\n",
    "# ■ Expected Output: [13, 40, 20, 10, 5, 16, 8, 4, 2, 1]\n",
    "\n",
    "sequence = []\n",
    "num = 13\n",
    "\n",
    "while num != 1:\n",
    "    if num % 2 == 0:\n",
    "        num = num // 2\n",
    "    else:\n",
    "        num = num * 3 + 1\n",
    "\n",
    "    # print(num)\n",
    "    sequence.append(num)\n",
    "\n",
    "print(sequence)\n"
   ]
  },
  {
   "cell_type": "code",
   "execution_count": null,
   "metadata": {},
   "outputs": [],
   "source": []
  }
 ],
 "metadata": {
  "kernelspec": {
   "display_name": "Python 3",
   "language": "python",
   "name": "python3"
  },
  "language_info": {
   "codemirror_mode": {
    "name": "ipython",
    "version": 3
   },
   "file_extension": ".py",
   "mimetype": "text/x-python",
   "name": "python",
   "nbconvert_exporter": "python",
   "pygments_lexer": "ipython3",
   "version": "3.13.0"
  }
 },
 "nbformat": 4,
 "nbformat_minor": 2
}
