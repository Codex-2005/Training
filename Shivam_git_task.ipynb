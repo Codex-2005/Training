{
 "cells": [
  {
   "cell_type": "markdown",
   "metadata": {},
   "source": [
    "Write a Python program to find all the prime numbers between two given numbers.\n",
    "■ Example Test Case:\n",
    "■ Input: start = 10, end = 30\n",
    "■ Expected Output: [11, 13, 17, 19, 23, 29]"
   ]
  },
  {
   "cell_type": "code",
   "execution_count": null,
   "metadata": {},
   "outputs": [
    {
     "name": "stdout",
     "output_type": "stream",
     "text": [
      "Hello\n"
     ]
    }
   ],
   "source": [
    "def prime(n):\n",
    "    flag = False\n",
    "    for i in range(2,n):\n",
    "        if n % i == 0:\n",
    "            flag = True\n",
    "            break\n",
    "\n",
    "    return flag\n",
    "\n",
    "start = 10\n",
    "end = 30\n",
    "\n",
    "for i in range(start,end + 1):\n",
    "    primes = []\n",
    "    if not prime(i):\n",
    "        primes.append(i)\n",
    "\n",
    "print(primes)\n"
   ]
  },
  {
   "cell_type": "code",
   "execution_count": null,
   "metadata": {},
   "outputs": [],
   "source": []
  }
 ],
 "metadata": {
  "kernelspec": {
   "display_name": "Python 3",
   "language": "python",
   "name": "python3"
  },
  "language_info": {
   "codemirror_mode": {
    "name": "ipython",
    "version": 3
   },
   "file_extension": ".py",
   "mimetype": "text/x-python",
   "name": "python",
   "nbconvert_exporter": "python",
   "pygments_lexer": "ipython3",
   "version": "3.13.0"
  }
 },
 "nbformat": 4,
 "nbformat_minor": 2
}
