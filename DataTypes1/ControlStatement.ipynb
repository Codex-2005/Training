{
 "cells": [
  {
   "cell_type": "code",
   "execution_count": null,
   "metadata": {},
   "outputs": [
    {
     "name": "stdout",
     "output_type": "stream",
     "text": [
      "Real roots: 2.00, 1.00\n"
     ]
    }
   ],
   "source": [
    "import cmath\n",
    "\n",
    "def solve_quadratic(a, b, c):\n",
    "    # Calculate the discriminant\n",
    "    D = b**2 - 4*a*c\n",
    "\n",
    "    # Calculate the roots based on the discriminant\n",
    "    if D > 0:\n",
    "        root1 = (-b + (D**0.5)) / (2 * a)\n",
    "        root2 = (-b - (D**0.5)) / (2 * a)\n",
    "        return \"Real roots: {:.2f}, {:.2f}\".format(root1, root2)\n",
    "    elif D == 0:\n",
    "        root = -b / (2 * a)\n",
    "        return \"Equal roots: {:.2f}\".format(root)\n",
    "    else:\n",
    "        real_part = -b / (2 * a)\n",
    "        imaginary_part = ((-D)**0.5) / (2 * a)\n",
    "        root1 = complex(real_part, imaginary_part)\n",
    "        root2 = complex(real_part, -imaginary_part)\n",
    "        return \"Complex roots: {}, {}\".format(root1, root2)\n",
    "\n",
    "# Example usage\n",
    "a = 1\n",
    "b = -3\n",
    "c = 2\n",
    "\n",
    "result = solve_quadratic(a, b, c)\n",
    "print(result)\n"
   ]
  },
  {
   "cell_type": "code",
   "execution_count": 6,
   "metadata": {},
   "outputs": [
    {
     "name": "stdout",
     "output_type": "stream",
     "text": [
      "[0, 1, 1, 2, 3]\n"
     ]
    }
   ],
   "source": [
    "def fibonacci_series(terms):\n",
    "    # Initialize the Fibonacci series\n",
    "    series = []\n",
    "    \n",
    "    # Generate the Fibonacci series\n",
    "    for i in range(terms):\n",
    "        if i == 0:\n",
    "            series.append(0)  # First term\n",
    "        elif i == 1:\n",
    "            series.append(1)  # Second term\n",
    "        else:\n",
    "            # Next term is the sum of the previous two\n",
    "            next_term = series[i - 1] + series[i - 2]\n",
    "            series.append(next_term)\n",
    "    \n",
    "    return series\n",
    "\n",
    "# Example usage\n",
    "terms = 5\n",
    "result = fibonacci_series(terms)\n",
    "print(result)\n"
   ]
  },
  {
   "cell_type": "code",
   "execution_count": 7,
   "metadata": {},
   "outputs": [
    {
     "name": "stdout",
     "output_type": "stream",
     "text": [
      "[10, 22, 33, 50, 60, 80]\n"
     ]
    }
   ],
   "source": [
    "def longest_increasing_subsequence(nums):\n",
    "    if not nums:\n",
    "        return []\n",
    "    \n",
    "    n = len(nums)\n",
    "    # Array to store the length of LIS up to each index\n",
    "    lis = [1] * n\n",
    "    # Array to store the previous index of the LIS elements\n",
    "    prev = [-1] * n\n",
    "    \n",
    "    # Compute the length of LIS\n",
    "    for i in range(1, n):\n",
    "        for j in range(i):\n",
    "            if nums[i] > nums[j] and lis[i] < lis[j] + 1:\n",
    "                lis[i] = lis[j] + 1\n",
    "                prev[i] = j\n",
    "    \n",
    "    # Find the maximum length of LIS\n",
    "    max_length = max(lis)\n",
    "    max_index = lis.index(max_length)\n",
    "    \n",
    "    # Reconstruct the longest increasing subsequence\n",
    "    lis_sequence = []\n",
    "    while max_index != -1:\n",
    "        lis_sequence.append(nums[max_index])\n",
    "        max_index = prev[max_index]\n",
    "    \n",
    "    # The sequence is constructed in reverse order, so reverse it\n",
    "    lis_sequence.reverse()\n",
    "    \n",
    "    return lis_sequence\n",
    "\n",
    "# Example usage\n",
    "input_list = [10, 22, 9, 33, 21, 50, 41, 60, 80]\n",
    "result = longest_increasing_subsequence(input_list)\n",
    "print(result)\n"
   ]
  },
  {
   "cell_type": "code",
   "execution_count": 8,
   "metadata": {},
   "outputs": [
    {
     "name": "stdout",
     "output_type": "stream",
     "text": [
      "The GCD of 48 and 18 is: 6\n"
     ]
    }
   ],
   "source": [
    "def gcd(num1, num2):\n",
    "    while num2 != 0:\n",
    "        num1, num2 = num2, num1 % num2\n",
    "    return num1\n",
    "\n",
    "# Example usage\n",
    "num1 = 48\n",
    "num2 = 18\n",
    "result = gcd(num1, num2)\n",
    "print(f\"The GCD of {num1} and {num2} is: {result}\")\n"
   ]
  },
  {
   "cell_type": "code",
   "execution_count": 9,
   "metadata": {},
   "outputs": [
    {
     "name": "stdout",
     "output_type": "stream",
     "text": [
      "[13, 40, 20, 10, 5, 16, 8, 4, 2, 1]\n"
     ]
    }
   ],
   "source": [
    "def collatz_conjecture(number):\n",
    "    if number <= 0:\n",
    "        raise ValueError(\"Input must be a positive integer.\")\n",
    "        \n",
    "    sequence = [number]\n",
    "\n",
    "    while number != 1:\n",
    "        if number % 2 == 0:\n",
    "            number = number // 2  # If even\n",
    "        else:\n",
    "            number = 3 * number + 1  # If odd\n",
    "        sequence.append(number)\n",
    "\n",
    "    return sequence\n",
    "\n",
    "# Example usage\n",
    "input_number = 13\n",
    "result = collatz_conjecture(input_number)\n",
    "print(result)\n"
   ]
  }
 ],
 "metadata": {
  "kernelspec": {
   "display_name": "Python 3",
   "language": "python",
   "name": "python3"
  },
  "language_info": {
   "codemirror_mode": {
    "name": "ipython",
    "version": 3
   },
   "file_extension": ".py",
   "mimetype": "text/x-python",
   "name": "python",
   "nbconvert_exporter": "python",
   "pygments_lexer": "ipython3",
   "version": "3.12.6"
  }
 },
 "nbformat": 4,
 "nbformat_minor": 2
}
